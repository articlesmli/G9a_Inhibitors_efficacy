{
 "cells": [
  {
   "cell_type": "markdown",
   "id": "e45522a1-1f4a-45c2-92b5-2fb9527130bf",
   "metadata": {},
   "source": [
    "# CID_SID ML model on active G9a inhibitors"
   ]
  },
  {
   "cell_type": "markdown",
   "id": "c3cfa56b-09e5-4db7-a90b-153ccab2ae7f",
   "metadata": {},
   "source": [
    "### Content   <a name=\"content\"></a>"
   ]
  },
  {
   "cell_type": "markdown",
   "id": "6eeee5ad-4d81-43ac-8542-92a2f445887a",
   "metadata": {},
   "source": [
    "1. [Upload and analyse PubChem BioAssay AID 504332 on G9a inhibitors ](#1)\n",
    "2. [Create a data frame with CIDs, SIDs and targets](#2)\n",
    "3. [Upload and analyse PubChem BioAssay AID 1996 on water solubility ](#3)\n",
    "4. [Create the final data frame by crossing the data frame that holds the targets with the water solubility data frame](#4)\n",
    "5. [Ensure an equal number of classes in the test sets](#5)\n",
    "6. [Balancing](#6)\n",
    "7. [Machine Learning](#7)\n",
    "8. [Cross validation](#8)\n",
    "9. [Scrutinise for overfitting](#9)\n",
    "10. [Hyperparameter tuning with Optuna](#10)\n",
    "11. [The final ML model](#11)\n",
    "12. [Plot the learning curve ans AUC](#12)\n",
    "13. [Confusion matrix, classification report](#13)"
   ]
  },
  {
   "cell_type": "markdown",
   "id": "0d3b1785-e096-44ba-9d6a-16eb37ec8b83",
   "metadata": {},
   "source": [
    "## Upload and analyse PubChem BioAssay AID 504332 on G9a inhibitors <a name=\"1\"></a>"
   ]
  },
  {
   "cell_type": "code",
   "execution_count": 1,
   "id": "dbee0568-eaa1-401d-8f8a-7fe35e967f14",
   "metadata": {},
   "outputs": [
    {
     "name": "stdout",
     "output_type": "stream",
     "text": [
      "Shape of the data frame:  (353737, 44)\n"
     ]
    },
    {
     "data": {
      "text/html": [
       "<div>\n",
       "<style scoped>\n",
       "    .dataframe tbody tr th:only-of-type {\n",
       "        vertical-align: middle;\n",
       "    }\n",
       "\n",
       "    .dataframe tbody tr th {\n",
       "        vertical-align: top;\n",
       "    }\n",
       "\n",
       "    .dataframe thead th {\n",
       "        text-align: right;\n",
       "    }\n",
       "</style>\n",
       "<table border=\"1\" class=\"dataframe\">\n",
       "  <thead>\n",
       "    <tr style=\"text-align: right;\">\n",
       "      <th></th>\n",
       "      <th>PUBCHEM_RESULT_TAG</th>\n",
       "      <th>SID</th>\n",
       "      <th>CID</th>\n",
       "      <th>PUBCHEM_EXT_DATASOURCE_SMILES</th>\n",
       "      <th>PUBCHEM_ACTIVITY_OUTCOME</th>\n",
       "      <th>PUBCHEM_ACTIVITY_SCORE</th>\n",
       "      <th>PUBCHEM_ACTIVITY_URL</th>\n",
       "      <th>PUBCHEM_ASSAYDATA_COMMENT</th>\n",
       "      <th>Phenotype</th>\n",
       "      <th>Potency</th>\n",
       "      <th>Efficacy</th>\n",
       "      <th>Analysis Comment</th>\n",
       "      <th>Curve_Description</th>\n",
       "      <th>Fit_LogAC50</th>\n",
       "      <th>Fit_HillSlope</th>\n",
       "      <th>Fit_R2</th>\n",
       "      <th>Fit_InfiniteActivity</th>\n",
       "      <th>Fit_ZeroActivity</th>\n",
       "      <th>Fit_CurveClass</th>\n",
       "      <th>Excluded_Points</th>\n",
       "      <th>Max_Response</th>\n",
       "      <th>Activity at 0.00366 uM</th>\n",
       "      <th>Activity at 0.00865 uM</th>\n",
       "      <th>Activity at 0.018 uM</th>\n",
       "      <th>Activity at 0.041 uM</th>\n",
       "      <th>Activity at 0.092 uM</th>\n",
       "      <th>Activity at 0.133 uM</th>\n",
       "      <th>Activity at 0.202 uM</th>\n",
       "      <th>Activity at 0.415 uM</th>\n",
       "      <th>Activity at 0.501 uM</th>\n",
       "      <th>Activity at 0.843 uM</th>\n",
       "      <th>Activity at 1.264 uM</th>\n",
       "      <th>Activity at 2.335 uM</th>\n",
       "      <th>Activity at 3.417 uM</th>\n",
       "      <th>Activity at 5.146 uM</th>\n",
       "      <th>Activity at 10.61 uM</th>\n",
       "      <th>Activity at 12.70 uM</th>\n",
       "      <th>Activity at 21.52 uM</th>\n",
       "      <th>Activity at 31.98 uM</th>\n",
       "      <th>Activity at 58.95 uM</th>\n",
       "      <th>Activity at 101.6 uM</th>\n",
       "      <th>Activity at 134.7 uM</th>\n",
       "      <th>Activity at 186.0 uM</th>\n",
       "      <th>Compound QC</th>\n",
       "    </tr>\n",
       "  </thead>\n",
       "  <tbody>\n",
       "    <tr>\n",
       "      <th>0</th>\n",
       "      <td>154378</td>\n",
       "      <td>57257240</td>\n",
       "      <td>135953404.0</td>\n",
       "      <td>C#CCOCCOCCOCCNC1=NC(=NC(=N1)N2CCN(CC2)C(=O)CN3...</td>\n",
       "      <td>Inactive</td>\n",
       "      <td>0</td>\n",
       "      <td>NaN</td>\n",
       "      <td>NaN</td>\n",
       "      <td>Inactive</td>\n",
       "      <td>NaN</td>\n",
       "      <td>NaN</td>\n",
       "      <td>NaN</td>\n",
       "      <td>NaN</td>\n",
       "      <td>NaN</td>\n",
       "      <td>NaN</td>\n",
       "      <td>NaN</td>\n",
       "      <td>NaN</td>\n",
       "      <td>NaN</td>\n",
       "      <td>4.0</td>\n",
       "      <td>NaN</td>\n",
       "      <td>4.0834</td>\n",
       "      <td>NaN</td>\n",
       "      <td>NaN</td>\n",
       "      <td>NaN</td>\n",
       "      <td>NaN</td>\n",
       "      <td>NaN</td>\n",
       "      <td>NaN</td>\n",
       "      <td>NaN</td>\n",
       "      <td>NaN</td>\n",
       "      <td>12.8175</td>\n",
       "      <td>NaN</td>\n",
       "      <td>NaN</td>\n",
       "      <td>4.0834</td>\n",
       "      <td>NaN</td>\n",
       "      <td>NaN</td>\n",
       "      <td>NaN</td>\n",
       "      <td>NaN</td>\n",
       "      <td>NaN</td>\n",
       "      <td>NaN</td>\n",
       "      <td>NaN</td>\n",
       "      <td>NaN</td>\n",
       "      <td>NaN</td>\n",
       "      <td>NaN</td>\n",
       "      <td>QC'd by Kevin Burgess - Texas A and M Univ. - ...</td>\n",
       "    </tr>\n",
       "    <tr>\n",
       "      <th>1</th>\n",
       "      <td>154349</td>\n",
       "      <td>57257238</td>\n",
       "      <td>135953403.0</td>\n",
       "      <td>CC(C)(C)C1=CC(=C(C(=C1)C(C)(C)C)O)C2=NC(=NC(=N...</td>\n",
       "      <td>Inactive</td>\n",
       "      <td>0</td>\n",
       "      <td>NaN</td>\n",
       "      <td>NaN</td>\n",
       "      <td>Inactive</td>\n",
       "      <td>NaN</td>\n",
       "      <td>NaN</td>\n",
       "      <td>NaN</td>\n",
       "      <td>NaN</td>\n",
       "      <td>NaN</td>\n",
       "      <td>NaN</td>\n",
       "      <td>NaN</td>\n",
       "      <td>NaN</td>\n",
       "      <td>NaN</td>\n",
       "      <td>4.0</td>\n",
       "      <td>NaN</td>\n",
       "      <td>-9.2676</td>\n",
       "      <td>NaN</td>\n",
       "      <td>NaN</td>\n",
       "      <td>NaN</td>\n",
       "      <td>NaN</td>\n",
       "      <td>NaN</td>\n",
       "      <td>NaN</td>\n",
       "      <td>NaN</td>\n",
       "      <td>NaN</td>\n",
       "      <td>-1.1391</td>\n",
       "      <td>NaN</td>\n",
       "      <td>NaN</td>\n",
       "      <td>-9.2676</td>\n",
       "      <td>NaN</td>\n",
       "      <td>NaN</td>\n",
       "      <td>NaN</td>\n",
       "      <td>NaN</td>\n",
       "      <td>NaN</td>\n",
       "      <td>NaN</td>\n",
       "      <td>NaN</td>\n",
       "      <td>NaN</td>\n",
       "      <td>NaN</td>\n",
       "      <td>NaN</td>\n",
       "      <td>QC'd by Elizabeth A Amin - Univ. of Minnesota ...</td>\n",
       "    </tr>\n",
       "    <tr>\n",
       "      <th>2</th>\n",
       "      <td>180795</td>\n",
       "      <td>57255498</td>\n",
       "      <td>135953402.0</td>\n",
       "      <td>CC[C@H](C)[C@@H](C(=O)N1CCN(CC1)C2=NC(=NC(=N2)...</td>\n",
       "      <td>Inactive</td>\n",
       "      <td>0</td>\n",
       "      <td>NaN</td>\n",
       "      <td>NaN</td>\n",
       "      <td>Inactive</td>\n",
       "      <td>NaN</td>\n",
       "      <td>NaN</td>\n",
       "      <td>NaN</td>\n",
       "      <td>NaN</td>\n",
       "      <td>NaN</td>\n",
       "      <td>NaN</td>\n",
       "      <td>NaN</td>\n",
       "      <td>NaN</td>\n",
       "      <td>NaN</td>\n",
       "      <td>4.0</td>\n",
       "      <td>NaN</td>\n",
       "      <td>-2.6485</td>\n",
       "      <td>NaN</td>\n",
       "      <td>NaN</td>\n",
       "      <td>NaN</td>\n",
       "      <td>NaN</td>\n",
       "      <td>NaN</td>\n",
       "      <td>NaN</td>\n",
       "      <td>NaN</td>\n",
       "      <td>NaN</td>\n",
       "      <td>13.5227</td>\n",
       "      <td>NaN</td>\n",
       "      <td>NaN</td>\n",
       "      <td>-2.6485</td>\n",
       "      <td>NaN</td>\n",
       "      <td>NaN</td>\n",
       "      <td>NaN</td>\n",
       "      <td>NaN</td>\n",
       "      <td>NaN</td>\n",
       "      <td>NaN</td>\n",
       "      <td>NaN</td>\n",
       "      <td>NaN</td>\n",
       "      <td>NaN</td>\n",
       "      <td>NaN</td>\n",
       "      <td>QC'd by Kevin Burgess - Texas A and M Univ. - ...</td>\n",
       "    </tr>\n",
       "    <tr>\n",
       "      <th>3</th>\n",
       "      <td>180827</td>\n",
       "      <td>57255496</td>\n",
       "      <td>135953401.0</td>\n",
       "      <td>CC[C@H](C)[C@@H](C(=O)N1CCN(CC1)C2=NC(=NC(=N2)...</td>\n",
       "      <td>Inactive</td>\n",
       "      <td>0</td>\n",
       "      <td>NaN</td>\n",
       "      <td>NaN</td>\n",
       "      <td>Inactive</td>\n",
       "      <td>NaN</td>\n",
       "      <td>NaN</td>\n",
       "      <td>NaN</td>\n",
       "      <td>NaN</td>\n",
       "      <td>NaN</td>\n",
       "      <td>NaN</td>\n",
       "      <td>NaN</td>\n",
       "      <td>NaN</td>\n",
       "      <td>NaN</td>\n",
       "      <td>4.0</td>\n",
       "      <td>NaN</td>\n",
       "      <td>8.8802</td>\n",
       "      <td>NaN</td>\n",
       "      <td>NaN</td>\n",
       "      <td>NaN</td>\n",
       "      <td>NaN</td>\n",
       "      <td>NaN</td>\n",
       "      <td>NaN</td>\n",
       "      <td>NaN</td>\n",
       "      <td>NaN</td>\n",
       "      <td>25.0368</td>\n",
       "      <td>NaN</td>\n",
       "      <td>NaN</td>\n",
       "      <td>8.8802</td>\n",
       "      <td>NaN</td>\n",
       "      <td>NaN</td>\n",
       "      <td>NaN</td>\n",
       "      <td>NaN</td>\n",
       "      <td>NaN</td>\n",
       "      <td>NaN</td>\n",
       "      <td>NaN</td>\n",
       "      <td>NaN</td>\n",
       "      <td>NaN</td>\n",
       "      <td>NaN</td>\n",
       "      <td>QC'd by Kevin Burgess - Texas A and M Univ. - ...</td>\n",
       "    </tr>\n",
       "    <tr>\n",
       "      <th>4</th>\n",
       "      <td>180868</td>\n",
       "      <td>57255491</td>\n",
       "      <td>135953400.0</td>\n",
       "      <td>CCCCC1=CN(N=N1)[C@@H](CCCC[NH3+])C(=O)N2CCN(CC...</td>\n",
       "      <td>Inactive</td>\n",
       "      <td>0</td>\n",
       "      <td>NaN</td>\n",
       "      <td>NaN</td>\n",
       "      <td>Inactive</td>\n",
       "      <td>NaN</td>\n",
       "      <td>NaN</td>\n",
       "      <td>NaN</td>\n",
       "      <td>NaN</td>\n",
       "      <td>NaN</td>\n",
       "      <td>NaN</td>\n",
       "      <td>NaN</td>\n",
       "      <td>NaN</td>\n",
       "      <td>NaN</td>\n",
       "      <td>4.0</td>\n",
       "      <td>NaN</td>\n",
       "      <td>-2.1811</td>\n",
       "      <td>NaN</td>\n",
       "      <td>NaN</td>\n",
       "      <td>NaN</td>\n",
       "      <td>NaN</td>\n",
       "      <td>NaN</td>\n",
       "      <td>NaN</td>\n",
       "      <td>NaN</td>\n",
       "      <td>NaN</td>\n",
       "      <td>15.5293</td>\n",
       "      <td>NaN</td>\n",
       "      <td>NaN</td>\n",
       "      <td>-2.1811</td>\n",
       "      <td>NaN</td>\n",
       "      <td>NaN</td>\n",
       "      <td>NaN</td>\n",
       "      <td>NaN</td>\n",
       "      <td>NaN</td>\n",
       "      <td>NaN</td>\n",
       "      <td>NaN</td>\n",
       "      <td>NaN</td>\n",
       "      <td>NaN</td>\n",
       "      <td>NaN</td>\n",
       "      <td>QC'd by Kevin Burgess - Texas A and M Univ. - ...</td>\n",
       "    </tr>\n",
       "  </tbody>\n",
       "</table>\n",
       "</div>"
      ],
      "text/plain": [
       "   PUBCHEM_RESULT_TAG       SID          CID  \\\n",
       "0              154378  57257240  135953404.0   \n",
       "1              154349  57257238  135953403.0   \n",
       "2              180795  57255498  135953402.0   \n",
       "3              180827  57255496  135953401.0   \n",
       "4              180868  57255491  135953400.0   \n",
       "\n",
       "                       PUBCHEM_EXT_DATASOURCE_SMILES PUBCHEM_ACTIVITY_OUTCOME  \\\n",
       "0  C#CCOCCOCCOCCNC1=NC(=NC(=N1)N2CCN(CC2)C(=O)CN3...                 Inactive   \n",
       "1  CC(C)(C)C1=CC(=C(C(=C1)C(C)(C)C)O)C2=NC(=NC(=N...                 Inactive   \n",
       "2  CC[C@H](C)[C@@H](C(=O)N1CCN(CC1)C2=NC(=NC(=N2)...                 Inactive   \n",
       "3  CC[C@H](C)[C@@H](C(=O)N1CCN(CC1)C2=NC(=NC(=N2)...                 Inactive   \n",
       "4  CCCCC1=CN(N=N1)[C@@H](CCCC[NH3+])C(=O)N2CCN(CC...                 Inactive   \n",
       "\n",
       "   PUBCHEM_ACTIVITY_SCORE  PUBCHEM_ACTIVITY_URL  PUBCHEM_ASSAYDATA_COMMENT  \\\n",
       "0                       0                   NaN                        NaN   \n",
       "1                       0                   NaN                        NaN   \n",
       "2                       0                   NaN                        NaN   \n",
       "3                       0                   NaN                        NaN   \n",
       "4                       0                   NaN                        NaN   \n",
       "\n",
       "  Phenotype  Potency  Efficacy  Analysis Comment Curve_Description  \\\n",
       "0  Inactive      NaN       NaN               NaN               NaN   \n",
       "1  Inactive      NaN       NaN               NaN               NaN   \n",
       "2  Inactive      NaN       NaN               NaN               NaN   \n",
       "3  Inactive      NaN       NaN               NaN               NaN   \n",
       "4  Inactive      NaN       NaN               NaN               NaN   \n",
       "\n",
       "   Fit_LogAC50  Fit_HillSlope  Fit_R2  Fit_InfiniteActivity  Fit_ZeroActivity  \\\n",
       "0          NaN            NaN     NaN                   NaN               NaN   \n",
       "1          NaN            NaN     NaN                   NaN               NaN   \n",
       "2          NaN            NaN     NaN                   NaN               NaN   \n",
       "3          NaN            NaN     NaN                   NaN               NaN   \n",
       "4          NaN            NaN     NaN                   NaN               NaN   \n",
       "\n",
       "   Fit_CurveClass Excluded_Points  Max_Response  Activity at 0.00366 uM  \\\n",
       "0             4.0             NaN        4.0834                     NaN   \n",
       "1             4.0             NaN       -9.2676                     NaN   \n",
       "2             4.0             NaN       -2.6485                     NaN   \n",
       "3             4.0             NaN        8.8802                     NaN   \n",
       "4             4.0             NaN       -2.1811                     NaN   \n",
       "\n",
       "   Activity at 0.00865 uM  Activity at 0.018 uM  Activity at 0.041 uM  \\\n",
       "0                     NaN                   NaN                   NaN   \n",
       "1                     NaN                   NaN                   NaN   \n",
       "2                     NaN                   NaN                   NaN   \n",
       "3                     NaN                   NaN                   NaN   \n",
       "4                     NaN                   NaN                   NaN   \n",
       "\n",
       "   Activity at 0.092 uM  Activity at 0.133 uM  Activity at 0.202 uM  \\\n",
       "0                   NaN                   NaN                   NaN   \n",
       "1                   NaN                   NaN                   NaN   \n",
       "2                   NaN                   NaN                   NaN   \n",
       "3                   NaN                   NaN                   NaN   \n",
       "4                   NaN                   NaN                   NaN   \n",
       "\n",
       "   Activity at 0.415 uM  Activity at 0.501 uM  Activity at 0.843 uM  \\\n",
       "0                   NaN               12.8175                   NaN   \n",
       "1                   NaN               -1.1391                   NaN   \n",
       "2                   NaN               13.5227                   NaN   \n",
       "3                   NaN               25.0368                   NaN   \n",
       "4                   NaN               15.5293                   NaN   \n",
       "\n",
       "   Activity at 1.264 uM  Activity at 2.335 uM  Activity at 3.417 uM  \\\n",
       "0                   NaN                4.0834                   NaN   \n",
       "1                   NaN               -9.2676                   NaN   \n",
       "2                   NaN               -2.6485                   NaN   \n",
       "3                   NaN                8.8802                   NaN   \n",
       "4                   NaN               -2.1811                   NaN   \n",
       "\n",
       "   Activity at 5.146 uM  Activity at 10.61 uM  Activity at 12.70 uM  \\\n",
       "0                   NaN                   NaN                   NaN   \n",
       "1                   NaN                   NaN                   NaN   \n",
       "2                   NaN                   NaN                   NaN   \n",
       "3                   NaN                   NaN                   NaN   \n",
       "4                   NaN                   NaN                   NaN   \n",
       "\n",
       "   Activity at 21.52 uM  Activity at 31.98 uM  Activity at 58.95 uM  \\\n",
       "0                   NaN                   NaN                   NaN   \n",
       "1                   NaN                   NaN                   NaN   \n",
       "2                   NaN                   NaN                   NaN   \n",
       "3                   NaN                   NaN                   NaN   \n",
       "4                   NaN                   NaN                   NaN   \n",
       "\n",
       "   Activity at 101.6 uM  Activity at 134.7 uM  Activity at 186.0 uM  \\\n",
       "0                   NaN                   NaN                   NaN   \n",
       "1                   NaN                   NaN                   NaN   \n",
       "2                   NaN                   NaN                   NaN   \n",
       "3                   NaN                   NaN                   NaN   \n",
       "4                   NaN                   NaN                   NaN   \n",
       "\n",
       "                                         Compound QC  \n",
       "0  QC'd by Kevin Burgess - Texas A and M Univ. - ...  \n",
       "1  QC'd by Elizabeth A Amin - Univ. of Minnesota ...  \n",
       "2  QC'd by Kevin Burgess - Texas A and M Univ. - ...  \n",
       "3  QC'd by Kevin Burgess - Texas A and M Univ. - ...  \n",
       "4  QC'd by Kevin Burgess - Texas A and M Univ. - ...  "
      ]
     },
     "execution_count": 1,
     "metadata": {},
     "output_type": "execute_result"
    }
   ],
   "source": [
    "import pandas as pd \n",
    "\n",
    "# load the BioAssay PubChem AID 504332 dataset\n",
    "# https://pubchem.ncbi.nlm.nih.gov/bioassay/504332\n",
    "df_targets = pd.read_csv('pubchem_G9a.csv')\n",
    "\n",
    "# To avoid truncation of some columns during data frame display\n",
    "pd.set_option('display.max_columns', None) \n",
    "\n",
    "# Display the data frame\n",
    "print('Shape of the data frame: ', df_targets.shape)\n",
    "df_targets.head()"
   ]
  },
  {
   "cell_type": "code",
   "execution_count": 2,
   "id": "ca6e6e01-7b9c-4c52-978d-895ac46b1f0f",
   "metadata": {},
   "outputs": [
    {
     "data": {
      "text/plain": [
       "(353737, 44)"
      ]
     },
     "execution_count": 2,
     "metadata": {},
     "output_type": "execute_result"
    }
   ],
   "source": [
    "# Remove duplicates \n",
    "df_targets.drop_duplicates()\n",
    "df_targets.shape  # 353737 means no duplicates"
   ]
  },
  {
   "cell_type": "code",
   "execution_count": 3,
   "id": "870d3fbb-1ebe-44b5-bdf3-727ae4a6f695",
   "metadata": {},
   "outputs": [
    {
     "data": {
      "text/plain": [
       "(343698, 44)"
      ]
     },
     "execution_count": 3,
     "metadata": {},
     "output_type": "execute_result"
    }
   ],
   "source": [
    "# Remove the isomers without keeping any of the forms \n",
    "df_targets = df_targets.drop_duplicates(subset=['CID'], keep=False)\n",
    "df_targets.shape"
   ]
  },
  {
   "cell_type": "code",
   "execution_count": 4,
   "id": "e214669a-393b-4aa3-84d7-8e3d51d3c623",
   "metadata": {},
   "outputs": [
    {
     "data": {
      "text/plain": [
       "(343698, 44)"
      ]
     },
     "execution_count": 4,
     "metadata": {},
     "output_type": "execute_result"
    }
   ],
   "source": [
    "# Remove compounds with missing CID-s\n",
    "df_targets = df_targets[df_targets['CID'].notna()]\n",
    "df_targets.shape"
   ]
  },
  {
   "cell_type": "code",
   "execution_count": 5,
   "id": "4a791986-eb7d-4cad-80fb-7cc86d9a6376",
   "metadata": {},
   "outputs": [],
   "source": [
    "# Turn CID float data type into integer\n",
    "df_targets['CID'] = df_targets['CID'].astype(int) "
   ]
  },
  {
   "cell_type": "code",
   "execution_count": 6,
   "id": "d6fd2086-8b59-45bb-a6ce-8b201473fe42",
   "metadata": {},
   "outputs": [
    {
     "name": "stdout",
     "output_type": "stream",
     "text": [
      "Unique values in 'Phenotype' are: ['Inactive' 'Inhibitor' 'Activator']\n",
      "Unique values in 'PUBCHEM_ACTIVITY_OUTCOME' are: ['Inactive' 'Inconclusive' 'Active']\n"
     ]
    }
   ],
   "source": [
    "# Print the unique values in \"PUBCHEM_ACTIVITY_OUTCOME\" and \"Phenotype\" colums\n",
    "unique_pheno = df_targets['Phenotype'].unique()\n",
    "unique_outcome = df_targets['PUBCHEM_ACTIVITY_OUTCOME'].unique()\n",
    "print (\"Unique values in 'Phenotype' are: {}\\nUnique values in 'PUBCHEM_ACTIVITY_OUTCOME' are: {}\".\n",
    "       format(unique_pheno, unique_outcome))"
   ]
  },
  {
   "cell_type": "code",
   "execution_count": 7,
   "id": "cc6b4a19-ac63-4eb9-9e6f-faae8b868a9b",
   "metadata": {},
   "outputs": [
    {
     "name": "stdout",
     "output_type": "stream",
     "text": [
      "Unique combinations between 'Phenotype' and 'PUBCHEM_ACTIVITY_OUTCOME' columns are:\n"
     ]
    },
    {
     "data": {
      "text/plain": [
       "array(['Inactive-Inactive', 'Inhibitor-Inconclusive', 'Inhibitor-Active',\n",
       "       'Activator-Inactive'], dtype=object)"
      ]
     },
     "execution_count": 7,
     "metadata": {},
     "output_type": "execute_result"
    }
   ],
   "source": [
    "# Print the unique combinations between \"PUBCHEM_ACTIVITY_OUTCOME\" and \"Phenotype\" colums\n",
    "df_targets['unique_combinations'] = df_targets['Phenotype'] + '-' + df_targets['PUBCHEM_ACTIVITY_OUTCOME']\n",
    "print(\"Unique combinations between 'Phenotype' and 'PUBCHEM_ACTIVITY_OUTCOME' columns are:\") \n",
    "df_targets['unique_combinations'].unique()"
   ]
  },
  {
   "cell_type": "markdown",
   "id": "36f03c01-9799-4384-b6c3-54e2089d4930",
   "metadata": {},
   "source": [
    "[<a href=\"#content\">Back to top</a>]"
   ]
  },
  {
   "cell_type": "markdown",
   "id": "aca79865-61b5-4f96-b4be-8496e16fc838",
   "metadata": {},
   "source": [
    "## Create a data frame with CIDs, SIDs and targets <a name=\"2\"></a>"
   ]
  },
  {
   "cell_type": "code",
   "execution_count": 8,
   "id": "6818bdca-6e32-4bac-9c42-121f58c13d07",
   "metadata": {},
   "outputs": [
    {
     "name": "stdout",
     "output_type": "stream",
     "text": [
      "Shape of df_targets_binary:  (343698, 3)\n"
     ]
    },
    {
     "data": {
      "text/html": [
       "<div>\n",
       "<style scoped>\n",
       "    .dataframe tbody tr th:only-of-type {\n",
       "        vertical-align: middle;\n",
       "    }\n",
       "\n",
       "    .dataframe tbody tr th {\n",
       "        vertical-align: top;\n",
       "    }\n",
       "\n",
       "    .dataframe thead th {\n",
       "        text-align: right;\n",
       "    }\n",
       "</style>\n",
       "<table border=\"1\" class=\"dataframe\">\n",
       "  <thead>\n",
       "    <tr style=\"text-align: right;\">\n",
       "      <th></th>\n",
       "      <th>CID</th>\n",
       "      <th>SID</th>\n",
       "      <th>unique_combinations</th>\n",
       "    </tr>\n",
       "  </thead>\n",
       "  <tbody>\n",
       "    <tr>\n",
       "      <th>0</th>\n",
       "      <td>135953404</td>\n",
       "      <td>57257240</td>\n",
       "      <td>Inactive-Inactive</td>\n",
       "    </tr>\n",
       "    <tr>\n",
       "      <th>1</th>\n",
       "      <td>135953403</td>\n",
       "      <td>57257238</td>\n",
       "      <td>Inactive-Inactive</td>\n",
       "    </tr>\n",
       "    <tr>\n",
       "      <th>2</th>\n",
       "      <td>135953402</td>\n",
       "      <td>57255498</td>\n",
       "      <td>Inactive-Inactive</td>\n",
       "    </tr>\n",
       "    <tr>\n",
       "      <th>3</th>\n",
       "      <td>135953401</td>\n",
       "      <td>57255496</td>\n",
       "      <td>Inactive-Inactive</td>\n",
       "    </tr>\n",
       "    <tr>\n",
       "      <th>4</th>\n",
       "      <td>135953400</td>\n",
       "      <td>57255491</td>\n",
       "      <td>Inactive-Inactive</td>\n",
       "    </tr>\n",
       "  </tbody>\n",
       "</table>\n",
       "</div>"
      ],
      "text/plain": [
       "         CID       SID unique_combinations\n",
       "0  135953404  57257240   Inactive-Inactive\n",
       "1  135953403  57257238   Inactive-Inactive\n",
       "2  135953402  57255498   Inactive-Inactive\n",
       "3  135953401  57255496   Inactive-Inactive\n",
       "4  135953400  57255491   Inactive-Inactive"
      ]
     },
     "execution_count": 8,
     "metadata": {},
     "output_type": "execute_result"
    }
   ],
   "source": [
    "# Create a data frame with the targets for binary classification\n",
    "df_targets = df_targets [['CID', 'SID', 'unique_combinations']]\n",
    "\n",
    "# Display the data frame\n",
    "print('Shape of df_targets_binary: ', df_targets.shape)\n",
    "df_targets.head()"
   ]
  },
  {
   "cell_type": "code",
   "execution_count": 9,
   "id": "8142e4b9-e510-4141-a42e-bca47fb5c869",
   "metadata": {},
   "outputs": [
    {
     "data": {
      "text/plain": [
       "unique_combinations\n",
       "Inactive-Inactive         251146\n",
       "Inhibitor-Inconclusive     50608\n",
       "Inhibitor-Active           30242\n",
       "Activator-Inactive         11702\n",
       "Name: count, dtype: int64"
      ]
     },
     "execution_count": 9,
     "metadata": {},
     "output_type": "execute_result"
    }
   ],
   "source": [
    "# Count each unique combinations\n",
    "df_targets['unique_combinations'].value_counts()"
   ]
  },
  {
   "cell_type": "code",
   "execution_count": 10,
   "id": "22425557-b57e-416b-8fd4-dba416a708e6",
   "metadata": {},
   "outputs": [],
   "source": [
    "# Set the binary targets to \"1\" for an active inhibitors and \"0\" for others \n",
    "df_targets = df_targets.copy()\n",
    "\n",
    "# Create a dictionary\n",
    "targets = {'Inhibitor-Active' : 1,\n",
    "           'Inhibitor-Inconclusive' : 0,\n",
    "           'Inactive-Inactive' : 0,\n",
    "           'Activator-Inactive' : 2}\n",
    "\n",
    "# Replace the names with binary values set up in the dictionary targets\n",
    "df_targets.unique_combinations = [targets[item] for item in df_targets.unique_combinations]\n",
    "\n",
    "# Rename \"unique combination\" into \"target\""
   ]
  },
  {
   "cell_type": "code",
   "execution_count": 11,
   "id": "3e2e00f6-4e49-46e6-b23a-659bdc76b435",
   "metadata": {},
   "outputs": [
    {
     "data": {
      "text/plain": [
       "array([0, 1, 2], dtype=int64)"
      ]
     },
     "execution_count": 11,
     "metadata": {},
     "output_type": "execute_result"
    }
   ],
   "source": [
    "df_targets = df_targets.rename(columns={'unique_combinations': 'target'})\n",
    "\n",
    "# Check how many unique values there are in the 'target' column\n",
    "df_targets['target'].unique()"
   ]
  },
  {
   "cell_type": "code",
   "execution_count": 12,
   "id": "ad337713-4432-4280-a56a-5f86322f0436",
   "metadata": {},
   "outputs": [],
   "source": [
    "df_1 = df_targets[df_targets[\"target\"] == 1]"
   ]
  },
  {
   "cell_type": "markdown",
   "id": "662d9d60-8c87-4d55-ab82-b4e8589977c0",
   "metadata": {},
   "source": [
    "[<a href=\"#content\">Back to top</a>]"
   ]
  },
  {
   "cell_type": "markdown",
   "id": "a422c5dd-cf2b-44a4-9559-aae609920194",
   "metadata": {},
   "source": [
    "## Upload and analyse PubChem BioAssay AID 1996 on water solubility <a name=\"3\"></a>"
   ]
  },
  {
   "cell_type": "code",
   "execution_count": 13,
   "id": "600894ae-645e-4d55-b7c5-8e044e3e6028",
   "metadata": {},
   "outputs": [
    {
     "name": "stdout",
     "output_type": "stream",
     "text": [
      "Shape of df_solubility:  (57859, 30)\n"
     ]
    },
    {
     "data": {
      "text/html": [
       "<div>\n",
       "<style scoped>\n",
       "    .dataframe tbody tr th:only-of-type {\n",
       "        vertical-align: middle;\n",
       "    }\n",
       "\n",
       "    .dataframe tbody tr th {\n",
       "        vertical-align: top;\n",
       "    }\n",
       "\n",
       "    .dataframe thead th {\n",
       "        text-align: right;\n",
       "    }\n",
       "</style>\n",
       "<table border=\"1\" class=\"dataframe\">\n",
       "  <thead>\n",
       "    <tr style=\"text-align: right;\">\n",
       "      <th></th>\n",
       "      <th>PUBCHEM_RESULT_TAG</th>\n",
       "      <th>SID</th>\n",
       "      <th>CID</th>\n",
       "      <th>PUBCHEM_EXT_DATASOURCE_SMILES</th>\n",
       "      <th>OUTCOME</th>\n",
       "      <th>PUBCHEM_ACTIVITY_SCORE</th>\n",
       "      <th>PUBCHEM_ACTIVITY_URL</th>\n",
       "      <th>PUBCHEM_ASSAYDATA_COMMENT</th>\n",
       "      <th>Solubility at pH 7.4_Qualifier_Mean</th>\n",
       "      <th>Solubility at pH 7.4_Mean</th>\n",
       "      <th>Test Concentration_1</th>\n",
       "      <th>Solubility at pH 7.4_Qualifier_1</th>\n",
       "      <th>Solubility at pH 7.4_1</th>\n",
       "      <th>Solubility at pH 7.4_Comment_1</th>\n",
       "      <th>Solubility of Astemizole at pH 7.4_Qualifier_1</th>\n",
       "      <th>Solubility of Astemizole at pH 7.4_1</th>\n",
       "      <th>Solubility of Sulfamethizole at pH 7.4_Qualifier_1</th>\n",
       "      <th>Solubility of Sulfamethizole at pH 7.4_1</th>\n",
       "      <th>Solubility of Imipramine HCl at pH 7.4_Qualifier_1</th>\n",
       "      <th>Solubility of Imipramine HCl at pH 7.4_1</th>\n",
       "      <th>Test Concentration_2</th>\n",
       "      <th>Solubility at pH 7.4_Qualifier_2</th>\n",
       "      <th>Solubility at pH 7.4_2</th>\n",
       "      <th>Solubility at pH 7.4_Comment_2</th>\n",
       "      <th>Solubility of Astemizole at pH 7.4_Qualifier_2</th>\n",
       "      <th>Solubility of Astemizole at pH 7.4_2</th>\n",
       "      <th>Solubility of Sulfamethizole at pH 7.4_Qualifier_2</th>\n",
       "      <th>Solubility of Sulfamethizole at pH 7.4_2</th>\n",
       "      <th>Solubility of Imipramine HCl at pH 7.4_Qualifier_2</th>\n",
       "      <th>Solubility of Imipramine HCl at pH 7.4_2</th>\n",
       "    </tr>\n",
       "  </thead>\n",
       "  <tbody>\n",
       "    <tr>\n",
       "      <th>0</th>\n",
       "      <td>1</td>\n",
       "      <td>24826444</td>\n",
       "      <td>2374148</td>\n",
       "      <td>COC1=CC=C(C=C1)OCC2=NNC(=S)N2N</td>\n",
       "      <td>Active</td>\n",
       "      <td>40</td>\n",
       "      <td>NaN</td>\n",
       "      <td>NaN</td>\n",
       "      <td>=</td>\n",
       "      <td>10.85</td>\n",
       "      <td>200</td>\n",
       "      <td>&lt;</td>\n",
       "      <td>0.1</td>\n",
       "      <td>Below LOQ</td>\n",
       "      <td>=</td>\n",
       "      <td>14.2</td>\n",
       "      <td>&gt;</td>\n",
       "      <td>40.5</td>\n",
       "      <td>&gt;</td>\n",
       "      <td>47.5</td>\n",
       "      <td>200.0</td>\n",
       "      <td>=</td>\n",
       "      <td>21.6</td>\n",
       "      <td>NaN</td>\n",
       "      <td>=</td>\n",
       "      <td>27.7</td>\n",
       "      <td>&gt;</td>\n",
       "      <td>40.5</td>\n",
       "      <td>&gt;</td>\n",
       "      <td>47.5</td>\n",
       "    </tr>\n",
       "    <tr>\n",
       "      <th>1</th>\n",
       "      <td>2</td>\n",
       "      <td>49669186</td>\n",
       "      <td>5295761</td>\n",
       "      <td>CC1=CC(=C(C=C1)NC2=NC3=CC=CC=C3N4C2=NN=C4)Cl</td>\n",
       "      <td>Inactive</td>\n",
       "      <td>0</td>\n",
       "      <td>NaN</td>\n",
       "      <td>NaN</td>\n",
       "      <td>&lt;</td>\n",
       "      <td>0.10</td>\n",
       "      <td>200</td>\n",
       "      <td>&lt;</td>\n",
       "      <td>0.1</td>\n",
       "      <td>Below LOQ</td>\n",
       "      <td>=</td>\n",
       "      <td>12.3</td>\n",
       "      <td>&gt;</td>\n",
       "      <td>40.5</td>\n",
       "      <td>&gt;</td>\n",
       "      <td>47.5</td>\n",
       "      <td>NaN</td>\n",
       "      <td>NaN</td>\n",
       "      <td>NaN</td>\n",
       "      <td>NaN</td>\n",
       "      <td>NaN</td>\n",
       "      <td>NaN</td>\n",
       "      <td>NaN</td>\n",
       "      <td>NaN</td>\n",
       "      <td>NaN</td>\n",
       "      <td>NaN</td>\n",
       "    </tr>\n",
       "    <tr>\n",
       "      <th>2</th>\n",
       "      <td>3</td>\n",
       "      <td>49669768</td>\n",
       "      <td>22431387</td>\n",
       "      <td>CC1=CC(=CC=C1)CCNC2=NC3=C(C=C(C=C3)C)N4C2=NN=C4</td>\n",
       "      <td>Inactive</td>\n",
       "      <td>0</td>\n",
       "      <td>NaN</td>\n",
       "      <td>NaN</td>\n",
       "      <td>&lt;</td>\n",
       "      <td>0.10</td>\n",
       "      <td>200</td>\n",
       "      <td>&lt;</td>\n",
       "      <td>0.1</td>\n",
       "      <td>Below LOQ</td>\n",
       "      <td>=</td>\n",
       "      <td>12.3</td>\n",
       "      <td>&gt;</td>\n",
       "      <td>40.5</td>\n",
       "      <td>&gt;</td>\n",
       "      <td>47.5</td>\n",
       "      <td>NaN</td>\n",
       "      <td>NaN</td>\n",
       "      <td>NaN</td>\n",
       "      <td>NaN</td>\n",
       "      <td>NaN</td>\n",
       "      <td>NaN</td>\n",
       "      <td>NaN</td>\n",
       "      <td>NaN</td>\n",
       "      <td>NaN</td>\n",
       "      <td>NaN</td>\n",
       "    </tr>\n",
       "    <tr>\n",
       "      <th>3</th>\n",
       "      <td>4</td>\n",
       "      <td>8139962</td>\n",
       "      <td>14296</td>\n",
       "      <td>CC1=C(N=C(C(=N1)C)C)C</td>\n",
       "      <td>Inactive</td>\n",
       "      <td>0</td>\n",
       "      <td>NaN</td>\n",
       "      <td>NaN</td>\n",
       "      <td>&lt;</td>\n",
       "      <td>0.10</td>\n",
       "      <td>200</td>\n",
       "      <td>&lt;</td>\n",
       "      <td>0.1</td>\n",
       "      <td>Below LOQ</td>\n",
       "      <td>=</td>\n",
       "      <td>11.4</td>\n",
       "      <td>&gt;</td>\n",
       "      <td>40.5</td>\n",
       "      <td>&gt;</td>\n",
       "      <td>47.5</td>\n",
       "      <td>NaN</td>\n",
       "      <td>NaN</td>\n",
       "      <td>NaN</td>\n",
       "      <td>NaN</td>\n",
       "      <td>NaN</td>\n",
       "      <td>NaN</td>\n",
       "      <td>NaN</td>\n",
       "      <td>NaN</td>\n",
       "      <td>NaN</td>\n",
       "      <td>NaN</td>\n",
       "    </tr>\n",
       "    <tr>\n",
       "      <th>4</th>\n",
       "      <td>5</td>\n",
       "      <td>24803435</td>\n",
       "      <td>865684</td>\n",
       "      <td>CC1=CC2=NC(=C(C=C2C=C1)C#N)NC3=CC=CC=C3OC</td>\n",
       "      <td>Inactive</td>\n",
       "      <td>0</td>\n",
       "      <td>NaN</td>\n",
       "      <td>NaN</td>\n",
       "      <td>&lt;</td>\n",
       "      <td>0.20</td>\n",
       "      <td>200</td>\n",
       "      <td>&lt;</td>\n",
       "      <td>0.2</td>\n",
       "      <td>Below LOQ</td>\n",
       "      <td>=</td>\n",
       "      <td>11.4</td>\n",
       "      <td>&gt;</td>\n",
       "      <td>40.5</td>\n",
       "      <td>&gt;</td>\n",
       "      <td>47.5</td>\n",
       "      <td>NaN</td>\n",
       "      <td>NaN</td>\n",
       "      <td>NaN</td>\n",
       "      <td>NaN</td>\n",
       "      <td>NaN</td>\n",
       "      <td>NaN</td>\n",
       "      <td>NaN</td>\n",
       "      <td>NaN</td>\n",
       "      <td>NaN</td>\n",
       "      <td>NaN</td>\n",
       "    </tr>\n",
       "  </tbody>\n",
       "</table>\n",
       "</div>"
      ],
      "text/plain": [
       "   PUBCHEM_RESULT_TAG       SID       CID  \\\n",
       "0                   1  24826444   2374148   \n",
       "1                   2  49669186   5295761   \n",
       "2                   3  49669768  22431387   \n",
       "3                   4   8139962     14296   \n",
       "4                   5  24803435    865684   \n",
       "\n",
       "                     PUBCHEM_EXT_DATASOURCE_SMILES   OUTCOME  \\\n",
       "0                   COC1=CC=C(C=C1)OCC2=NNC(=S)N2N    Active   \n",
       "1     CC1=CC(=C(C=C1)NC2=NC3=CC=CC=C3N4C2=NN=C4)Cl  Inactive   \n",
       "2  CC1=CC(=CC=C1)CCNC2=NC3=C(C=C(C=C3)C)N4C2=NN=C4  Inactive   \n",
       "3                            CC1=C(N=C(C(=N1)C)C)C  Inactive   \n",
       "4        CC1=CC2=NC(=C(C=C2C=C1)C#N)NC3=CC=CC=C3OC  Inactive   \n",
       "\n",
       "   PUBCHEM_ACTIVITY_SCORE  PUBCHEM_ACTIVITY_URL  PUBCHEM_ASSAYDATA_COMMENT  \\\n",
       "0                      40                   NaN                        NaN   \n",
       "1                       0                   NaN                        NaN   \n",
       "2                       0                   NaN                        NaN   \n",
       "3                       0                   NaN                        NaN   \n",
       "4                       0                   NaN                        NaN   \n",
       "\n",
       "  Solubility at pH 7.4_Qualifier_Mean  Solubility at pH 7.4_Mean  \\\n",
       "0                                   =                      10.85   \n",
       "1                                   <                       0.10   \n",
       "2                                   <                       0.10   \n",
       "3                                   <                       0.10   \n",
       "4                                   <                       0.20   \n",
       "\n",
       "   Test Concentration_1 Solubility at pH 7.4_Qualifier_1  \\\n",
       "0                   200                                <   \n",
       "1                   200                                <   \n",
       "2                   200                                <   \n",
       "3                   200                                <   \n",
       "4                   200                                <   \n",
       "\n",
       "   Solubility at pH 7.4_1 Solubility at pH 7.4_Comment_1  \\\n",
       "0                     0.1                      Below LOQ   \n",
       "1                     0.1                      Below LOQ   \n",
       "2                     0.1                      Below LOQ   \n",
       "3                     0.1                      Below LOQ   \n",
       "4                     0.2                      Below LOQ   \n",
       "\n",
       "  Solubility of Astemizole at pH 7.4_Qualifier_1  \\\n",
       "0                                              =   \n",
       "1                                              =   \n",
       "2                                              =   \n",
       "3                                              =   \n",
       "4                                              =   \n",
       "\n",
       "   Solubility of Astemizole at pH 7.4_1  \\\n",
       "0                                  14.2   \n",
       "1                                  12.3   \n",
       "2                                  12.3   \n",
       "3                                  11.4   \n",
       "4                                  11.4   \n",
       "\n",
       "  Solubility of Sulfamethizole at pH 7.4_Qualifier_1  \\\n",
       "0                                                  >   \n",
       "1                                                  >   \n",
       "2                                                  >   \n",
       "3                                                  >   \n",
       "4                                                  >   \n",
       "\n",
       "   Solubility of Sulfamethizole at pH 7.4_1  \\\n",
       "0                                      40.5   \n",
       "1                                      40.5   \n",
       "2                                      40.5   \n",
       "3                                      40.5   \n",
       "4                                      40.5   \n",
       "\n",
       "  Solubility of Imipramine HCl at pH 7.4_Qualifier_1  \\\n",
       "0                                                  >   \n",
       "1                                                  >   \n",
       "2                                                  >   \n",
       "3                                                  >   \n",
       "4                                                  >   \n",
       "\n",
       "   Solubility of Imipramine HCl at pH 7.4_1  Test Concentration_2  \\\n",
       "0                                      47.5                 200.0   \n",
       "1                                      47.5                   NaN   \n",
       "2                                      47.5                   NaN   \n",
       "3                                      47.5                   NaN   \n",
       "4                                      47.5                   NaN   \n",
       "\n",
       "  Solubility at pH 7.4_Qualifier_2  Solubility at pH 7.4_2  \\\n",
       "0                                =                    21.6   \n",
       "1                              NaN                     NaN   \n",
       "2                              NaN                     NaN   \n",
       "3                              NaN                     NaN   \n",
       "4                              NaN                     NaN   \n",
       "\n",
       "  Solubility at pH 7.4_Comment_2  \\\n",
       "0                            NaN   \n",
       "1                            NaN   \n",
       "2                            NaN   \n",
       "3                            NaN   \n",
       "4                            NaN   \n",
       "\n",
       "  Solubility of Astemizole at pH 7.4_Qualifier_2  \\\n",
       "0                                              =   \n",
       "1                                            NaN   \n",
       "2                                            NaN   \n",
       "3                                            NaN   \n",
       "4                                            NaN   \n",
       "\n",
       "   Solubility of Astemizole at pH 7.4_2  \\\n",
       "0                                  27.7   \n",
       "1                                   NaN   \n",
       "2                                   NaN   \n",
       "3                                   NaN   \n",
       "4                                   NaN   \n",
       "\n",
       "  Solubility of Sulfamethizole at pH 7.4_Qualifier_2  \\\n",
       "0                                                  >   \n",
       "1                                                NaN   \n",
       "2                                                NaN   \n",
       "3                                                NaN   \n",
       "4                                                NaN   \n",
       "\n",
       "   Solubility of Sulfamethizole at pH 7.4_2  \\\n",
       "0                                      40.5   \n",
       "1                                       NaN   \n",
       "2                                       NaN   \n",
       "3                                       NaN   \n",
       "4                                       NaN   \n",
       "\n",
       "  Solubility of Imipramine HCl at pH 7.4_Qualifier_2  \\\n",
       "0                                                  >   \n",
       "1                                                NaN   \n",
       "2                                                NaN   \n",
       "3                                                NaN   \n",
       "4                                                NaN   \n",
       "\n",
       "   Solubility of Imipramine HCl at pH 7.4_2  \n",
       "0                                      47.5  \n",
       "1                                       NaN  \n",
       "2                                       NaN  \n",
       "3                                       NaN  \n",
       "4                                       NaN  "
      ]
     },
     "execution_count": 13,
     "metadata": {},
     "output_type": "execute_result"
    }
   ],
   "source": [
    "# Load data from PubChem BioAssay AID 1996 \n",
    "df_solubility = pd.read_csv('pubchem_solubility.csv')\n",
    "\n",
    "# Display the data frame\n",
    "print('Shape of df_solubility: ', df_solubility.shape)\n",
    "df_solubility.head()"
   ]
  },
  {
   "cell_type": "code",
   "execution_count": 14,
   "id": "5036ead0-2012-4ad8-9cdd-16e1eca9f31f",
   "metadata": {},
   "outputs": [
    {
     "name": "stdout",
     "output_type": "stream",
     "text": [
      "Shape of df_solubility:  (57859, 2)\n"
     ]
    },
    {
     "data": {
      "text/html": [
       "<div>\n",
       "<style scoped>\n",
       "    .dataframe tbody tr th:only-of-type {\n",
       "        vertical-align: middle;\n",
       "    }\n",
       "\n",
       "    .dataframe tbody tr th {\n",
       "        vertical-align: top;\n",
       "    }\n",
       "\n",
       "    .dataframe thead th {\n",
       "        text-align: right;\n",
       "    }\n",
       "</style>\n",
       "<table border=\"1\" class=\"dataframe\">\n",
       "  <thead>\n",
       "    <tr style=\"text-align: right;\">\n",
       "      <th></th>\n",
       "      <th>CID</th>\n",
       "      <th>SID</th>\n",
       "    </tr>\n",
       "  </thead>\n",
       "  <tbody>\n",
       "    <tr>\n",
       "      <th>0</th>\n",
       "      <td>2374148</td>\n",
       "      <td>24826444</td>\n",
       "    </tr>\n",
       "    <tr>\n",
       "      <th>1</th>\n",
       "      <td>5295761</td>\n",
       "      <td>49669186</td>\n",
       "    </tr>\n",
       "    <tr>\n",
       "      <th>2</th>\n",
       "      <td>22431387</td>\n",
       "      <td>49669768</td>\n",
       "    </tr>\n",
       "    <tr>\n",
       "      <th>3</th>\n",
       "      <td>14296</td>\n",
       "      <td>8139962</td>\n",
       "    </tr>\n",
       "    <tr>\n",
       "      <th>4</th>\n",
       "      <td>865684</td>\n",
       "      <td>24803435</td>\n",
       "    </tr>\n",
       "  </tbody>\n",
       "</table>\n",
       "</div>"
      ],
      "text/plain": [
       "        CID       SID\n",
       "0   2374148  24826444\n",
       "1   5295761  49669186\n",
       "2  22431387  49669768\n",
       "3     14296   8139962\n",
       "4    865684  24803435"
      ]
     },
     "execution_count": 14,
     "metadata": {},
     "output_type": "execute_result"
    }
   ],
   "source": [
    "\n",
    "# Leaving only the columns of interest\n",
    "df_solubility = df_solubility[['CID', 'SID']]\n",
    "\n",
    "# Display the data frame\n",
    "print('Shape of df_solubility: ', df_solubility.shape)\n",
    "df_solubility.head()"
   ]
  },
  {
   "cell_type": "markdown",
   "id": "e7afe5c4-f2a9-4f33-a2cb-5c15b6f39306",
   "metadata": {},
   "source": [
    "[<a href=\"#content\">Back to top</a>]"
   ]
  },
  {
   "cell_type": "markdown",
   "id": "802c6c82-8273-4bd2-a6b5-45e5da4ea37d",
   "metadata": {},
   "source": [
    "## Create the final data frame by crossing the data frame that holds the targets with the water solubility data frame <a name=\"4\"></a>"
   ]
  },
  {
   "cell_type": "code",
   "execution_count": 15,
   "id": "3d42b555-b24d-4cac-a4fb-f10869748ce1",
   "metadata": {},
   "outputs": [
    {
     "name": "stdout",
     "output_type": "stream",
     "text": [
      "Shape of df:  (42598, 3)\n"
     ]
    },
    {
     "data": {
      "text/html": [
       "<div>\n",
       "<style scoped>\n",
       "    .dataframe tbody tr th:only-of-type {\n",
       "        vertical-align: middle;\n",
       "    }\n",
       "\n",
       "    .dataframe tbody tr th {\n",
       "        vertical-align: top;\n",
       "    }\n",
       "\n",
       "    .dataframe thead th {\n",
       "        text-align: right;\n",
       "    }\n",
       "</style>\n",
       "<table border=\"1\" class=\"dataframe\">\n",
       "  <thead>\n",
       "    <tr style=\"text-align: right;\">\n",
       "      <th></th>\n",
       "      <th>CID</th>\n",
       "      <th>SID</th>\n",
       "      <th>target</th>\n",
       "    </tr>\n",
       "  </thead>\n",
       "  <tbody>\n",
       "    <tr>\n",
       "      <th>0</th>\n",
       "      <td>135915051</td>\n",
       "      <td>56318818</td>\n",
       "      <td>0</td>\n",
       "    </tr>\n",
       "    <tr>\n",
       "      <th>1</th>\n",
       "      <td>135877406</td>\n",
       "      <td>57258630</td>\n",
       "      <td>0</td>\n",
       "    </tr>\n",
       "    <tr>\n",
       "      <th>2</th>\n",
       "      <td>135867650</td>\n",
       "      <td>57264282</td>\n",
       "      <td>0</td>\n",
       "    </tr>\n",
       "    <tr>\n",
       "      <th>3</th>\n",
       "      <td>135856003</td>\n",
       "      <td>26729454</td>\n",
       "      <td>1</td>\n",
       "    </tr>\n",
       "    <tr>\n",
       "      <th>4</th>\n",
       "      <td>135856001</td>\n",
       "      <td>26725867</td>\n",
       "      <td>0</td>\n",
       "    </tr>\n",
       "  </tbody>\n",
       "</table>\n",
       "</div>"
      ],
      "text/plain": [
       "         CID       SID  target\n",
       "0  135915051  56318818       0\n",
       "1  135877406  57258630       0\n",
       "2  135867650  57264282       0\n",
       "3  135856003  26729454       1\n",
       "4  135856001  26725867       0"
      ]
     },
     "execution_count": 15,
     "metadata": {},
     "output_type": "execute_result"
    }
   ],
   "source": [
    "# Use the merge function to cross the target and watersolubility data frames \n",
    "df = pd.merge(df_targets, df_solubility, on= ['CID', 'SID']) \n",
    "df = df.reset_index(drop=True)\n",
    "\n",
    "# Display the data frame\n",
    "print('Shape of df: ', df.shape)\n",
    "df.head()"
   ]
  },
  {
   "cell_type": "code",
   "execution_count": 16,
   "id": "f78ee1c2-6f8c-4dc5-8ca5-a9849d9ce011",
   "metadata": {},
   "outputs": [
    {
     "data": {
      "text/plain": [
       "target\n",
       "0    36276\n",
       "1     4194\n",
       "2     2128\n",
       "Name: count, dtype: int64"
      ]
     },
     "execution_count": 16,
     "metadata": {},
     "output_type": "execute_result"
    }
   ],
   "source": [
    "# Count each unique combinations\n",
    "df['target'].value_counts()"
   ]
  },
  {
   "cell_type": "markdown",
   "id": "0580d30e-32c8-4463-a7c8-152149ce0fc7",
   "metadata": {},
   "source": [
    "[<a href=\"#content\">Back to top</a>]"
   ]
  },
  {
   "cell_type": "markdown",
   "id": "aa111a00-4fe0-4986-a5af-8fd9573ec45a",
   "metadata": {},
   "source": [
    "## Ensure an equal number of classes in the test sets <a name=\"5\"></a>"
   ]
  },
  {
   "cell_type": "code",
   "execution_count": 17,
   "id": "b0975c02-6006-4032-8c15-c52b55d5e99b",
   "metadata": {},
   "outputs": [
    {
     "data": {
      "text/plain": [
       "target\n",
       "0    36276\n",
       "1    30242\n",
       "Name: count, dtype: int64"
      ]
     },
     "execution_count": 17,
     "metadata": {},
     "output_type": "execute_result"
    }
   ],
   "source": [
    "df_0 = df[df[\"target\"] == 0]\n",
    "\n",
    "df = pd.concat([df_0,df_1])\n",
    "df['target'].value_counts()"
   ]
  },
  {
   "cell_type": "code",
   "execution_count": 18,
   "id": "bea71452-0bb3-4c8c-96bd-0255d399f6af",
   "metadata": {},
   "outputs": [],
   "source": [
    "# Handle the part of target 1 in the test set \n",
    "df_1 = df[df['target']==1]\n",
    "\n",
    "# Shuffle the resulting data set\n",
    "df_1 = df_1.sample(\n",
    "    frac = 1,        # Return entire dataframe\n",
    "    random_state=1   # Make result reproducible\n",
    "    ).reset_index(drop=True)\n",
    "\n",
    "# Extract 2800 samples (10% of 28000 samples) of target 1 for the test set\n",
    "df_1_test = df_1.iloc[:7000]\n",
    "\n",
    "# Assign the rest of target 1 for the train set\n",
    "df_1_train = df_1.iloc[7000:]"
   ]
  },
  {
   "cell_type": "code",
   "execution_count": 19,
   "id": "c28743b4-cda5-4d06-9153-0602ebcc5321",
   "metadata": {},
   "outputs": [],
   "source": [
    "# Handle the part of target 0 in the test set \n",
    "df_0 = df[df['target']==0]\n",
    "\n",
    "# Shuffle the resulting data set\n",
    "df_0 = df_0.sample(\n",
    "    frac = 1,        # Return entire dataframe\n",
    "    random_state=1   # Make result reproducible\n",
    "    ).reset_index(drop=True)\n",
    "\n",
    "## Extract 2800 samples (10% of 28000 samples) of target 0 for the test set Extract 10% of target 1 for the test set\n",
    "df_0_test = df_0.iloc[:7000]\n",
    "\n",
    "# Assign the rest of target 1 for the train set\n",
    "df_0_train = df_0.iloc[7000:]"
   ]
  },
  {
   "cell_type": "code",
   "execution_count": 20,
   "id": "338ab518-dd8c-4ebd-ac6d-41517ad4b07a",
   "metadata": {},
   "outputs": [],
   "source": [
    "# Create train and test dataframe for further manipulation \n",
    "train = pd.concat([df_0_train, df_1_train])\n",
    "test = pd.concat([df_0_test, df_1_test])"
   ]
  },
  {
   "cell_type": "code",
   "execution_count": 21,
   "id": "9f1180ec-7f06-46f9-a376-00c27441a6ed",
   "metadata": {},
   "outputs": [],
   "source": [
    "# Create the sets for ML \n",
    "X_train = train.drop(columns='target' , axis=1)\n",
    "y_train = train['target']\n",
    "\n",
    "X_test =  test.drop(columns='target' , axis=1)\n",
    "y_test = test['target']"
   ]
  },
  {
   "cell_type": "code",
   "execution_count": 22,
   "id": "17a19bd7-7c0b-419b-a867-a7aadfc60233",
   "metadata": {},
   "outputs": [],
   "source": [
    "# Create X and y datasets to use for cross-validation\n",
    "X = pd.concat([X_train, X_test]) \n",
    "y = pd.concat([y_train, y_test]) "
   ]
  },
  {
   "cell_type": "code",
   "execution_count": 23,
   "id": "4c766738-1944-48d0-8932-0df658c88f36",
   "metadata": {},
   "outputs": [
    {
     "data": {
      "text/plain": [
       "target\n",
       "0    7000\n",
       "1    7000\n",
       "Name: count, dtype: int64"
      ]
     },
     "execution_count": 23,
     "metadata": {},
     "output_type": "execute_result"
    }
   ],
   "source": [
    "# Check the number of classes in the y_test set\n",
    "y_test.value_counts()"
   ]
  },
  {
   "cell_type": "code",
   "execution_count": 24,
   "id": "014590c6-f69d-485e-99e6-b5366e6e4783",
   "metadata": {},
   "outputs": [
    {
     "name": "stdout",
     "output_type": "stream",
     "text": [
      "Shapes:\n",
      "X_train:  (52518, 2)\n",
      "X_test:   (14000, 2)\n",
      "y_train:  (52518,)\n",
      "y_test:   (14000,)\n"
     ]
    }
   ],
   "source": [
    "# Print the shape of each part\n",
    "print(\"Shapes:\")\n",
    "print(\"X_train: \", X_train.shape)\n",
    "print(\"X_test:  \", X_test.shape)\n",
    "print(\"y_train: \", y_train.shape)\n",
    "print(\"y_test:  \", y_test.shape)"
   ]
  },
  {
   "cell_type": "markdown",
   "id": "9861f0db-442d-4e05-a7d7-741c706f3d3d",
   "metadata": {},
   "source": [
    "[<a href=\"#content\">Back to top</a>]"
   ]
  },
  {
   "cell_type": "markdown",
   "id": "e0a29c7b-1960-4904-ae5e-94bcae8ffe48",
   "metadata": {},
   "source": [
    " ## Balancing <a name=\"6\"></a>"
   ]
  },
  {
   "cell_type": "code",
   "execution_count": 25,
   "id": "01af189c-a4e9-4f9e-84dc-01ce8f26ed63",
   "metadata": {},
   "outputs": [
    {
     "name": "stdout",
     "output_type": "stream",
     "text": [
      "[(0, 29276), (1, 23242)]\n"
     ]
    },
    {
     "data": {
      "image/png": "[encoded data removed]",
      "text/plain": [
       "<Figure size 640x480 with 1 Axes>"
      ]
     },
     "metadata": {},
     "output_type": "display_data"
    }
   ],
   "source": [
    "from collections import Counter\n",
    "from matplotlib import pyplot as plt\n",
    "import seaborn as sns\n",
    "\n",
    "# Plot the imbalance between the targets \n",
    "print(sorted(Counter(y_train).items()))\n",
    "sns.set_style('white')\n",
    "sns.set(font_scale=1)\n",
    "plt.figure()\n",
    "sns.countplot(x=y_train, hue=y_train, palette='nipy_spectral')\n",
    "plt.show()"
   ]
  },
  {
   "cell_type": "code",
   "execution_count": 26,
   "id": "308afc66-bd65-49eb-af9f-30c915c9a813",
   "metadata": {},
   "outputs": [
    {
     "name": "stdout",
     "output_type": "stream",
     "text": [
      "[(0, 29276), (1, 29276)]\n"
     ]
    },
    {
     "data": {
      "image/png": "[encoded data removed]",
      "text/plain": [
       "<Figure size 640x480 with 1 Axes>"
      ]
     },
     "metadata": {},
     "output_type": "display_data"
    }
   ],
   "source": [
    "from imblearn.over_sampling import RandomOverSampler\n",
    "\n",
    "# Balance targets with Synthetic Minority Oversampling Technique\n",
    "# smote = SMOTE(random_state=0)\n",
    "ros = RandomOverSampler()\n",
    "\n",
    "X_train, y_train = ros.fit_resample(X_train, y_train)\n",
    "\n",
    "# Plot the balance between classification targets \n",
    "print(sorted(Counter(y_train).items()))\n",
    "sns.set_style('white')\n",
    "sns.set(font_scale=1)\n",
    "plt.figure()\n",
    "sns.countplot(x=y_train, hue=y_train,palette='nipy_spectral')\n",
    "plt.show()"
   ]
  },
  {
   "cell_type": "code",
   "execution_count": 27,
   "id": "7c2dbc8f-2055-458f-b9a5-1722b8048337",
   "metadata": {},
   "outputs": [
    {
     "name": "stdout",
     "output_type": "stream",
     "text": [
      "Shapes:\n",
      "X_train:  (58552, 2)\n",
      "X_test:   (14000, 2)\n",
      "y_train:  (58552,)\n",
      "y_test:   (14000,)\n"
     ]
    }
   ],
   "source": [
    "# Print the shape of each part\n",
    "print(\"Shapes:\")\n",
    "print(\"X_train: \", X_train.shape)\n",
    "print(\"X_test:  \", X_test.shape)\n",
    "print(\"y_train: \", y_train.shape)\n",
    "print(\"y_test:  \", y_test.shape)"
   ]
  },
  {
   "cell_type": "markdown",
   "id": "6ccc0662-03c3-45b8-9f45-41d84e6ad95a",
   "metadata": {},
   "source": [
    "[<a href=\"#content\">Back to top</a>]"
   ]
  },
  {
   "cell_type": "markdown",
   "id": "04fd8c19-149e-4c2a-8f33-56e4b1edb5e3",
   "metadata": {},
   "source": [
    " ## Machine Learning <a name=\"7\"></a>"
   ]
  },
  {
   "cell_type": "markdown",
   "id": "1f06bf3b-9d76-40cf-a1eb-269a0dd56fb9",
   "metadata": {},
   "source": [
    "<a name=\"7\"></a>"
   ]
  },
  {
   "cell_type": "code",
   "execution_count": 28,
   "id": "064ade45-a276-4271-b116-fd48dafbb35f",
   "metadata": {},
   "outputs": [],
   "source": [
    "from sklearn.svm import SVC\n",
    "from sklearn.tree import DecisionTreeClassifier\n",
    "from sklearn.ensemble import RandomForestClassifier\n",
    "from sklearn.ensemble import GradientBoostingClassifier\n",
    "from xgboost import XGBClassifier\n",
    "from sklearn.neighbors import KNeighborsClassifier\n",
    "\n",
    "# Instantiate the algorithms that will be used, placing them in a dictionary \n",
    "clfs = {\"SVM\":SVC(),\n",
    "        \"Decision\":DecisionTreeClassifier(), \n",
    "        \"RandomForest\":RandomForestClassifier(), \n",
    "        \"GradientBoost\":GradientBoostingClassifier(),\n",
    "        \"XGBoost\":XGBClassifier(verbosity=0),\n",
    "       \"K-nearest\": KNeighborsClassifier(n_neighbors=3)}"
   ]
  },
  {
   "cell_type": "code",
   "execution_count": 29,
   "id": "4e512a93-3b43-46f9-b096-38f3b1d53ea4",
   "metadata": {},
   "outputs": [
    {
     "data": {
      "text/html": [
       "<div>\n",
       "<style scoped>\n",
       "    .dataframe tbody tr th:only-of-type {\n",
       "        vertical-align: middle;\n",
       "    }\n",
       "\n",
       "    .dataframe tbody tr th {\n",
       "        vertical-align: top;\n",
       "    }\n",
       "\n",
       "    .dataframe thead th {\n",
       "        text-align: right;\n",
       "    }\n",
       "</style>\n",
       "<table border=\"1\" class=\"dataframe\">\n",
       "  <thead>\n",
       "    <tr style=\"text-align: right;\">\n",
       "      <th></th>\n",
       "      <th>Algorithm</th>\n",
       "      <th>Accuracy</th>\n",
       "      <th>Precision</th>\n",
       "      <th>Recall</th>\n",
       "      <th>F1</th>\n",
       "      <th>ROC</th>\n",
       "    </tr>\n",
       "  </thead>\n",
       "  <tbody>\n",
       "    <tr>\n",
       "      <th>4</th>\n",
       "      <td>XGBoost</td>\n",
       "      <td>0.788</td>\n",
       "      <td>0.851</td>\n",
       "      <td>0.699</td>\n",
       "      <td>0.768</td>\n",
       "      <td>0.788</td>\n",
       "    </tr>\n",
       "    <tr>\n",
       "      <th>2</th>\n",
       "      <td>RandomForest</td>\n",
       "      <td>0.781</td>\n",
       "      <td>0.825</td>\n",
       "      <td>0.714</td>\n",
       "      <td>0.765</td>\n",
       "      <td>0.781</td>\n",
       "    </tr>\n",
       "    <tr>\n",
       "      <th>3</th>\n",
       "      <td>GradientBoost</td>\n",
       "      <td>0.777</td>\n",
       "      <td>0.883</td>\n",
       "      <td>0.640</td>\n",
       "      <td>0.742</td>\n",
       "      <td>0.777</td>\n",
       "    </tr>\n",
       "    <tr>\n",
       "      <th>5</th>\n",
       "      <td>K-nearest</td>\n",
       "      <td>0.762</td>\n",
       "      <td>0.777</td>\n",
       "      <td>0.735</td>\n",
       "      <td>0.755</td>\n",
       "      <td>0.762</td>\n",
       "    </tr>\n",
       "    <tr>\n",
       "      <th>1</th>\n",
       "      <td>Decision</td>\n",
       "      <td>0.753</td>\n",
       "      <td>0.768</td>\n",
       "      <td>0.724</td>\n",
       "      <td>0.745</td>\n",
       "      <td>0.753</td>\n",
       "    </tr>\n",
       "    <tr>\n",
       "      <th>0</th>\n",
       "      <td>SVM</td>\n",
       "      <td>0.729</td>\n",
       "      <td>0.871</td>\n",
       "      <td>0.538</td>\n",
       "      <td>0.665</td>\n",
       "      <td>0.729</td>\n",
       "    </tr>\n",
       "  </tbody>\n",
       "</table>\n",
       "</div>"
      ],
      "text/plain": [
       "       Algorithm  Accuracy  Precision  Recall     F1    ROC\n",
       "4        XGBoost     0.788      0.851   0.699  0.768  0.788\n",
       "2   RandomForest     0.781      0.825   0.714  0.765  0.781\n",
       "3  GradientBoost     0.777      0.883   0.640  0.742  0.777\n",
       "5      K-nearest     0.762      0.777   0.735  0.755  0.762\n",
       "1       Decision     0.753      0.768   0.724  0.745  0.753\n",
       "0            SVM     0.729      0.871   0.538  0.665  0.729"
      ]
     },
     "execution_count": 29,
     "metadata": {},
     "output_type": "execute_result"
    }
   ],
   "source": [
    "from sklearn.metrics import f1_score, accuracy_score, precision_score, recall_score, roc_auc_score\n",
    "\n",
    "# Create statistics with the results of training with different algorithms\n",
    "def model_fit(clfs):\n",
    "    fitted_model={}\n",
    "    model_result = pd.DataFrame()\n",
    "    # Iterate the clfs dictionary clfs\n",
    "    for model_name, model in clfs.items():\n",
    "        # Train the current model\n",
    "        model.fit(X_train,y_train)\n",
    "        # Add the current model name\n",
    "        fitted_model.update({model_name:model})\n",
    "        # Prediction of the current model \n",
    "        y_pred = model.predict(X_test)\n",
    "        model_dict = {}\n",
    "        model_dict['Algorithm'] = model_name\n",
    "        # Calculate the metrics\n",
    "        model_dict['Accuracy'] = round(accuracy_score(y_test, y_pred),3)\n",
    "        model_dict['Precision'] = round(precision_score(y_test, y_pred),3)\n",
    "        model_dict['Recall'] = round(recall_score(y_test, y_pred),3)\n",
    "        model_dict['F1'] = round(f1_score(y_test, y_pred),3)\n",
    "        model_dict['ROC'] = round(roc_auc_score(y_test, y_pred),3)\n",
    "        model_result = model_result._append(model_dict,ignore_index=True)\n",
    "    return fitted_model, model_result\n",
    "\n",
    "# Run the function model_fit(clfs) \n",
    "fitted_model, model_result = model_fit(clfs)\n",
    "\n",
    "# Display the results of the model_fit(clfs) function in a descending order\n",
    "model_result.sort_values(by=['Accuracy'],ascending=False)"
   ]
  },
  {
   "cell_type": "markdown",
   "id": "a3ecbc64-ee4b-4ba6-a33f-572d4c44c767",
   "metadata": {},
   "source": [
    "[<a href=\"#content\">Back to top</a>]"
   ]
  },
  {
   "cell_type": "markdown",
   "id": "5a82d042-026b-4fe3-9757-f19c255368ea",
   "metadata": {},
   "source": [
    " ## Cross-validation <a name=\"8\"></a>"
   ]
  },
  {
   "cell_type": "markdown",
   "id": "e54bdf51-992e-47e8-80ac-fb514e52a8eb",
   "metadata": {},
   "source": [
    "<a name=\"8\"></a>"
   ]
  },
  {
   "cell_type": "code",
   "execution_count": 30,
   "id": "de9996e2-3591-4d0e-84b9-2c184bf19395",
   "metadata": {},
   "outputs": [
    {
     "data": {
      "text/html": [
       "<div>\n",
       "<style scoped>\n",
       "    .dataframe tbody tr th:only-of-type {\n",
       "        vertical-align: middle;\n",
       "    }\n",
       "\n",
       "    .dataframe tbody tr th {\n",
       "        vertical-align: top;\n",
       "    }\n",
       "\n",
       "    .dataframe thead th {\n",
       "        text-align: right;\n",
       "    }\n",
       "</style>\n",
       "<table border=\"1\" class=\"dataframe\">\n",
       "  <thead>\n",
       "    <tr style=\"text-align: right;\">\n",
       "      <th></th>\n",
       "      <th>Algorithm</th>\n",
       "      <th>Mean CV Score</th>\n",
       "      <th>Standard Deviation</th>\n",
       "      <th>List of CV Scores</th>\n",
       "    </tr>\n",
       "  </thead>\n",
       "  <tbody>\n",
       "    <tr>\n",
       "      <th>4</th>\n",
       "      <td>XGBoost</td>\n",
       "      <td>0.7998</td>\n",
       "      <td>0.0013</td>\n",
       "      <td>[0.7981, 0.7986, 0.8006, 0.8, 0.8015]</td>\n",
       "    </tr>\n",
       "    <tr>\n",
       "      <th>3</th>\n",
       "      <td>GradientBoost</td>\n",
       "      <td>0.7912</td>\n",
       "      <td>0.0036</td>\n",
       "      <td>[0.7866, 0.7901, 0.7976, 0.7906, 0.7913]</td>\n",
       "    </tr>\n",
       "    <tr>\n",
       "      <th>2</th>\n",
       "      <td>RandomForest</td>\n",
       "      <td>0.7909</td>\n",
       "      <td>0.0017</td>\n",
       "      <td>[0.7883, 0.7905, 0.7899, 0.7931, 0.7925]</td>\n",
       "    </tr>\n",
       "    <tr>\n",
       "      <th>5</th>\n",
       "      <td>K-nearest</td>\n",
       "      <td>0.7777</td>\n",
       "      <td>0.0033</td>\n",
       "      <td>[0.7725, 0.7754, 0.7804, 0.7813, 0.7789]</td>\n",
       "    </tr>\n",
       "    <tr>\n",
       "      <th>1</th>\n",
       "      <td>Decision</td>\n",
       "      <td>0.7550</td>\n",
       "      <td>0.0031</td>\n",
       "      <td>[0.7528, 0.7565, 0.7533, 0.7519, 0.7603]</td>\n",
       "    </tr>\n",
       "    <tr>\n",
       "      <th>0</th>\n",
       "      <td>SVM</td>\n",
       "      <td>0.7429</td>\n",
       "      <td>0.0036</td>\n",
       "      <td>[0.7385, 0.7393, 0.748, 0.7454, 0.7434]</td>\n",
       "    </tr>\n",
       "  </tbody>\n",
       "</table>\n",
       "</div>"
      ],
      "text/plain": [
       "       Algorithm  Mean CV Score  Standard Deviation  \\\n",
       "4        XGBoost         0.7998              0.0013   \n",
       "3  GradientBoost         0.7912              0.0036   \n",
       "2   RandomForest         0.7909              0.0017   \n",
       "5      K-nearest         0.7777              0.0033   \n",
       "1       Decision         0.7550              0.0031   \n",
       "0            SVM         0.7429              0.0036   \n",
       "\n",
       "                          List of CV Scores  \n",
       "4     [0.7981, 0.7986, 0.8006, 0.8, 0.8015]  \n",
       "3  [0.7866, 0.7901, 0.7976, 0.7906, 0.7913]  \n",
       "2  [0.7883, 0.7905, 0.7899, 0.7931, 0.7925]  \n",
       "5  [0.7725, 0.7754, 0.7804, 0.7813, 0.7789]  \n",
       "1  [0.7528, 0.7565, 0.7533, 0.7519, 0.7603]  \n",
       "0   [0.7385, 0.7393, 0.748, 0.7454, 0.7434]  "
      ]
     },
     "execution_count": 30,
     "metadata": {},
     "output_type": "execute_result"
    }
   ],
   "source": [
    "# Cross validation\n",
    "from sklearn.model_selection import cross_val_score\n",
    "import numpy as np\n",
    "\n",
    "# Create statistics with the results of the cross-validation of different estimators\n",
    "def model_CV(clfs):\n",
    "    estimated_model={}\n",
    "    model_cv_result = pd.DataFrame()\n",
    "    for model_name, model in clfs.items():\n",
    "        estimated_model.update({model_name:model})\n",
    "        scores = cross_val_score(model, X, y, cv=5, scoring='accuracy')\n",
    "        model_dict = {}\n",
    "        model_dict['Algorithm'] = model_name\n",
    "        model_dict['Mean CV Score'] = round(scores.mean(), 4)\n",
    "        model_dict['Standard Deviation'] = round(scores.std(), 4)\n",
    "        model_dict['List of CV Scores'] = np.round(scores, 4)\n",
    "        model_cv_result = model_cv_result._append(model_dict,ignore_index=True)\n",
    "    return estimated_model, model_cv_result\n",
    "\n",
    "# Run the model_CV(clsf) function\n",
    "estimated_model, model_cv_result = model_CV(clfs)\n",
    "\n",
    "# Display the results of cross_validation statistics in a descending order\n",
    "model_cv_result.sort_values(by=['Mean CV Score'],ascending=False)"
   ]
  },
  {
   "cell_type": "markdown",
   "id": "1c6683f1-99d2-40f6-bc0c-8de3ebf2f3ef",
   "metadata": {},
   "source": [
    "[<a href=\"#content\">Back to top</a>]"
   ]
  },
  {
   "cell_type": "markdown",
   "id": "d1236650-0ef1-4b9d-ac27-93c67890dd8d",
   "metadata": {},
   "source": [
    " ## Scrutinise for overfitting <a name=\"9\"></a>"
   ]
  },
  {
   "cell_type": "markdown",
   "id": "a974c0cb-ec4f-4094-8819-2d5db9a208c8",
   "metadata": {},
   "source": [
    "<a name=\"9\"></a>"
   ]
  },
  {
   "cell_type": "code",
   "execution_count": 31,
   "id": "e25fc9dd-78e6-455b-80bf-4bec5ef83611",
   "metadata": {},
   "outputs": [
    {
     "name": "stdout",
     "output_type": "stream",
     "text": [
      ">1, train: 0.761, test: 0.761\n",
      ">2, train: 0.778, test: 0.776\n",
      ">3, train: 0.787, test: 0.782\n",
      ">4, train: 0.796, test: 0.785\n",
      ">5, train: 0.804, test: 0.788\n",
      ">6, train: 0.814, test: 0.788\n",
      ">7, train: 0.822, test: 0.789\n",
      ">8, train: 0.827, test: 0.787\n",
      ">9, train: 0.834, test: 0.789\n",
      ">10, train: 0.841, test: 0.786\n",
      ">11, train: 0.844, test: 0.786\n",
      ">12, train: 0.848, test: 0.786\n",
      ">13, train: 0.854, test: 0.781\n",
      ">14, train: 0.855, test: 0.780\n",
      ">15, train: 0.859, test: 0.780\n",
      ">16, train: 0.859, test: 0.779\n",
      ">17, train: 0.863, test: 0.777\n",
      ">18, train: 0.862, test: 0.777\n",
      ">19, train: 0.864, test: 0.775\n",
      ">20, train: 0.865, test: 0.776\n"
     ]
    }
   ],
   "source": [
    "# Evaluate random forest classifier performance on train and test sets with different tree depths\n",
    "train_scores, test_scores = list(), list()\n",
    "# define the tree depths to evaluate\n",
    "values = [i for i in range(1, 21)]\n",
    "# evaluate a decision tree for each depth\n",
    "for i in values:\n",
    " # configure the model\n",
    " model_ = XGBClassifier(max_depth=i)\n",
    " # fit model_ on the training dataset\n",
    " model_.fit(X_train, y_train)\n",
    " # evaluate on the train dataset\n",
    " train_yhat = model_.predict(X_train)\n",
    " train_acc = accuracy_score(y_train, train_yhat)\n",
    " train_scores.append(train_acc)\n",
    " # evaluate on the test dataset\n",
    " test_yhat = model_.predict(X_test)\n",
    " test_acc = accuracy_score(y_test, test_yhat)\n",
    " test_scores.append(test_acc)\n",
    " # summarize progress\n",
    " print('>%d, train: %.3f, test: %.3f' % (i, train_acc, test_acc))"
   ]
  },
  {
   "cell_type": "code",
   "execution_count": 32,
   "id": "ada68556-96ee-4289-b736-02c8d96115db",
   "metadata": {},
   "outputs": [
    {
     "data": {
      "image/png": "[encoded data removed]",
      "text/plain": [
       "<Figure size 640x480 with 1 Axes>"
      ]
     },
     "metadata": {},
     "output_type": "display_data"
    }
   ],
   "source": [
    "import math\n",
    "\n",
    "# Set integers for x axis\n",
    "new_x_ticks = range(math.floor(min(values)), math.ceil(max(values))+1)\n",
    "plt.xticks(new_x_ticks)\n",
    "# Plot of train and test scores vs tree depth\n",
    "plt.plot(values, train_scores, '-o', label='Train')\n",
    "plt.plot(values, test_scores, '-o', label='Test')\n",
    "plt.legend()\n",
    "plt.xlabel(\"max_depth\")\n",
    "plt.ylabel(\"accuravy\")\n",
    "plt.show()"
   ]
  },
  {
   "cell_type": "code",
   "execution_count": 33,
   "id": "fd9d785d-fd89-496c-b9ce-dcbd743a957b",
   "metadata": {},
   "outputs": [
    {
     "name": "stdout",
     "output_type": "stream",
     "text": [
      "Accuracy:  0.789\n",
      "Precision:  0.848\n",
      "Recall:  0.705\n",
      "F1:  0.77\n",
      "ROC:  0.789\n"
     ]
    }
   ],
   "source": [
    "# ML \n",
    "model= XGBClassifier(max_depth=9)\n",
    "model.fit(X_train, y_train)\n",
    "y_pred = model.predict(X_test)\n",
    "\n",
    "# Evaluation\n",
    "acc = round(accuracy_score(y_test, y_pred),3)\n",
    "print('Accuracy: ', acc)\n",
    "pre = round(precision_score(y_test, y_pred),3)\n",
    "print('Precision: ', pre) \n",
    "rec = round(recall_score(y_test, y_pred),3)\n",
    "print('Recall: ',rec) \n",
    "f1 = round(f1_score(y_test, y_pred),3)\n",
    "print('F1: ', f1) \n",
    "roc = round(roc_auc_score(y_test, y_pred),3) \n",
    "print('ROC: ', roc)"
   ]
  },
  {
   "cell_type": "markdown",
   "id": "79c2661f-82d4-4e25-a8a2-ff6ca39f8016",
   "metadata": {},
   "source": [
    "[<a href=\"#content\">Back to top</a>]"
   ]
  },
  {
   "cell_type": "markdown",
   "id": "07ef7372-df81-4c14-80eb-9d4e45aaa8db",
   "metadata": {},
   "source": [
    "## Hyperparameter tuning with Optuna <a name=\"10\"></a>"
   ]
  },
  {
   "cell_type": "code",
   "execution_count": 34,
   "id": "1b59b192-fbfa-45c4-af90-97a77ec109b8",
   "metadata": {},
   "outputs": [
    {
     "name": "stderr",
     "output_type": "stream",
     "text": [
      "[I 2025-03-08 11:39:16,952] A new study created in memory with name: no-name-a0b70d61-5da3-4326-918f-5e84ab7f10ac\n",
      "[I 2025-03-08 11:39:18,410] Trial 0 finished with value: 0.7574635421630573 and parameters: {'n_estimators': 177, 'learning_rate': 0.008409111824536979, 'max_depth': 3, 'gamma': 0.5418299891213818, 'subsample': 0.7653270239831745, 'colsample_bytree': 0.7983583271822003, 'reg_alpha': 0.0013104801325526196, 'reg_lambda': 0.08674054983462587, 'min_child_weight': 2, 'colsample_bylevel': 0.9828831867166992}. Best is trial 0 with value: 0.7574635421630573.\n",
      "[I 2025-03-08 11:39:23,389] Trial 1 finished with value: 0.7815959638842692 and parameters: {'n_estimators': 494, 'learning_rate': 0.0815476679162352, 'max_depth': 9, 'gamma': 0.3957531751897999, 'subsample': 0.9280998114315803, 'colsample_bytree': 0.5768762550346722, 'reg_alpha': 3.1539008980943794e-06, 'reg_lambda': 0.527672615358354, 'min_child_weight': 5, 'colsample_bylevel': 0.8416680966150839}. Best is trial 1 with value: 0.7815959638842692.\n",
      "[I 2025-03-08 11:39:24,292] Trial 2 finished with value: 0.7759940820709048 and parameters: {'n_estimators': 77, 'learning_rate': 0.09951633687910691, 'max_depth': 5, 'gamma': 0.8165110462877044, 'subsample': 0.8071199612811273, 'colsample_bytree': 0.6561633997593732, 'reg_alpha': 0.00023765264951213085, 'reg_lambda': 0.009090594494809265, 'min_child_weight': 10, 'colsample_bylevel': 0.9613071415883151}. Best is trial 1 with value: 0.7815959638842692.\n",
      "[I 2025-03-08 11:39:30,502] Trial 3 finished with value: 0.7769675783444164 and parameters: {'n_estimators': 332, 'learning_rate': 0.008700856441648364, 'max_depth': 9, 'gamma': 0.26450362259474824, 'subsample': 0.5398390766273106, 'colsample_bytree': 0.9182504057953267, 'reg_alpha': 0.0004853782541650486, 'reg_lambda': 1.7104273595881204e-06, 'min_child_weight': 5, 'colsample_bylevel': 0.8949131567133535}. Best is trial 1 with value: 0.7815959638842692.\n",
      "[I 2025-03-08 11:39:32,014] Trial 4 finished with value: 0.7813397448850157 and parameters: {'n_estimators': 97, 'learning_rate': 0.14863118531149688, 'max_depth': 7, 'gamma': 0.17972177702118675, 'subsample': 0.6251216253001263, 'colsample_bytree': 0.682751400756717, 'reg_alpha': 0.03165785133993299, 'reg_lambda': 0.018147297834213774, 'min_child_weight': 8, 'colsample_bylevel': 0.9740825914405532}. Best is trial 1 with value: 0.7815959638842692.\n",
      "[I 2025-03-08 11:39:33,098] Trial 5 finished with value: 0.7581808252709485 and parameters: {'n_estimators': 132, 'learning_rate': 0.01244146799139982, 'max_depth': 3, 'gamma': 0.5251536919454652, 'subsample': 0.7204089109134795, 'colsample_bytree': 0.5106508812396564, 'reg_alpha': 0.053545252296934374, 'reg_lambda': 0.12332910448537483, 'min_child_weight': 9, 'colsample_bylevel': 0.9039357354357302}. Best is trial 1 with value: 0.7815959638842692.\n",
      "[I 2025-03-08 11:39:40,749] Trial 6 finished with value: 0.7808786428577625 and parameters: {'n_estimators': 491, 'learning_rate': 0.08227623811255598, 'max_depth': 8, 'gamma': 0.26805358153862846, 'subsample': 0.8078426333999389, 'colsample_bytree': 0.5919074923218621, 'reg_alpha': 0.0005920685379875164, 'reg_lambda': 0.0005670029642137206, 'min_child_weight': 2, 'colsample_bylevel': 0.6993260116633577}. Best is trial 1 with value: 0.7815959638842692.\n",
      "[I 2025-03-08 11:39:42,617] Trial 7 finished with value: 0.7760623370365478 and parameters: {'n_estimators': 194, 'learning_rate': 0.059188793287963525, 'max_depth': 4, 'gamma': 0.2744536190102054, 'subsample': 0.6379065319131256, 'colsample_bytree': 0.9798268141930031, 'reg_alpha': 6.249375799158542e-05, 'reg_lambda': 0.022059481794327325, 'min_child_weight': 5, 'colsample_bylevel': 0.6631930509341641}. Best is trial 1 with value: 0.7815959638842692.\n",
      "[I 2025-03-08 11:39:44,869] Trial 8 finished with value: 0.7805712133103673 and parameters: {'n_estimators': 332, 'learning_rate': 0.0749124782386004, 'max_depth': 9, 'gamma': 0.42851500291061084, 'subsample': 0.566712983984109, 'colsample_bytree': 0.5914858765779529, 'reg_alpha': 3.3565048720040115e-08, 'reg_lambda': 1.0657660156988908e-06, 'min_child_weight': 5, 'colsample_bylevel': 0.899884546272042}. Best is trial 1 with value: 0.7815959638842692.\n",
      "[I 2025-03-08 11:39:45,517] Trial 9 finished with value: 0.7715365082249488 and parameters: {'n_estimators': 123, 'learning_rate': 0.0023820600336155683, 'max_depth': 8, 'gamma': 0.7136598730680569, 'subsample': 0.7276924236076852, 'colsample_bytree': 0.6958715464392369, 'reg_alpha': 1.702596749779286e-07, 'reg_lambda': 0.002410104373582357, 'min_child_weight': 6, 'colsample_bylevel': 0.6458673101737342}. Best is trial 1 with value: 0.7815959638842692.\n",
      "[I 2025-03-08 11:39:46,370] Trial 10 finished with value: 0.7789657785227652 and parameters: {'n_estimators': 499, 'learning_rate': 0.28743125560251365, 'max_depth': 10, 'gamma': 0.9978841564313872, 'subsample': 0.9491044856868298, 'colsample_bytree': 0.7941714688475094, 'reg_alpha': 6.164769138313122, 'reg_lambda': 5.7012495123297136, 'min_child_weight': 7, 'colsample_bylevel': 0.7899503933325022}. Best is trial 1 with value: 0.7815959638842692.\n",
      "[I 2025-03-08 11:39:47,721] Trial 11 finished with value: 0.7809298884077034 and parameters: {'n_estimators': 409, 'learning_rate': 0.2512688777540605, 'max_depth': 6, 'gamma': 0.060339074173034746, 'subsample': 0.9813305248818242, 'colsample_bytree': 0.5067259632597967, 'reg_alpha': 1.8838485283730563e-06, 'reg_lambda': 7.2069902883997505, 'min_child_weight': 8, 'colsample_bylevel': 0.8473078037503206}. Best is trial 1 with value: 0.7815959638842692.\n",
      "[I 2025-03-08 11:39:48,996] Trial 12 finished with value: 0.7801271994528636 and parameters: {'n_estimators': 261, 'learning_rate': 0.036682184704003695, 'max_depth': 7, 'gamma': 0.07231282479952783, 'subsample': 0.8978369032373491, 'colsample_bytree': 0.7198486672229417, 'reg_alpha': 0.1932949904146593, 'reg_lambda': 4.160441918284074e-05, 'min_child_weight': 3, 'colsample_bylevel': 0.5440661929143629}. Best is trial 1 with value: 0.7815959638842692.\n",
      "[I 2025-03-08 11:39:50,186] Trial 13 finished with value: 0.7783680425995223 and parameters: {'n_estimators': 256, 'learning_rate': 0.02751496602753405, 'max_depth': 7, 'gamma': 0.3741184530002429, 'subsample': 0.6298029958484666, 'colsample_bytree': 0.6244999001514943, 'reg_alpha': 1.455439897378043e-06, 'reg_lambda': 0.5258611533483258, 'min_child_weight': 7, 'colsample_bylevel': 0.7951874923246356}. Best is trial 1 with value: 0.7815959638842692.\n",
      "[I 2025-03-08 11:39:50,588] Trial 14 finished with value: 0.7809298869492951 and parameters: {'n_estimators': 54, 'learning_rate': 0.2305822082173041, 'max_depth': 10, 'gamma': 0.16517849706900778, 'subsample': 0.862104222459438, 'colsample_bytree': 0.772821509196487, 'reg_alpha': 0.04362795277279957, 'reg_lambda': 1.0672692790933297e-08, 'min_child_weight': 4, 'colsample_bylevel': 0.9910914348442099}. Best is trial 1 with value: 0.7815959638842692.\n",
      "[I 2025-03-08 11:39:52,059] Trial 15 finished with value: 0.7803663040310186 and parameters: {'n_estimators': 416, 'learning_rate': 0.13120603778871298, 'max_depth': 6, 'gamma': 0.6563221167029699, 'subsample': 0.6582392209855086, 'colsample_bytree': 0.564772590866617, 'reg_alpha': 1.0318160740009734e-05, 'reg_lambda': 7.006869755381138e-05, 'min_child_weight': 8, 'colsample_bylevel': 0.844335513349375}. Best is trial 1 with value: 0.7815959638842692.\n",
      "[I 2025-03-08 11:39:53,857] Trial 16 finished with value: 0.7798539068679436 and parameters: {'n_estimators': 348, 'learning_rate': 0.02708806771056912, 'max_depth': 8, 'gamma': 0.009143030745436431, 'subsample': 0.5918989827421149, 'colsample_bytree': 0.8594478796953489, 'reg_alpha': 0.00856650503885052, 'reg_lambda': 0.546788412481698, 'min_child_weight': 10, 'colsample_bylevel': 0.9302322214461889}. Best is trial 1 with value: 0.7815959638842692.\n",
      "[I 2025-03-08 11:39:55,069] Trial 17 finished with value: 0.7732101965197857 and parameters: {'n_estimators': 210, 'learning_rate': 0.0014253177445513352, 'max_depth': 9, 'gamma': 0.17592233523789594, 'subsample': 0.5014266394818117, 'colsample_bytree': 0.6807256071240083, 'reg_alpha': 1.2467971566730771, 'reg_lambda': 0.0018384019504858425, 'min_child_weight': 1, 'colsample_bylevel': 0.7529378498310813}. Best is trial 1 with value: 0.7815959638842692.\n",
      "[I 2025-03-08 11:39:56,445] Trial 18 finished with value: 0.7806395499468739 and parameters: {'n_estimators': 429, 'learning_rate': 0.13385427179537335, 'max_depth': 5, 'gamma': 0.37606333597937125, 'subsample': 0.6844418779040865, 'colsample_bytree': 0.6433921937574233, 'reg_alpha': 2.370894538965404e-05, 'reg_lambda': 0.8102406083388004, 'min_child_weight': 7, 'colsample_bylevel': 0.8472934027969221}. Best is trial 1 with value: 0.7815959638842692.\n",
      "[I 2025-03-08 11:39:57,670] Trial 19 finished with value: 0.7800759582781477 and parameters: {'n_estimators': 301, 'learning_rate': 0.055477449756113066, 'max_depth': 7, 'gamma': 0.45685186403374434, 'subsample': 0.9219325104518823, 'colsample_bytree': 0.7324487825840877, 'reg_alpha': 0.004667789281511048, 'reg_lambda': 0.02949181847865597, 'min_child_weight': 6, 'colsample_bylevel': 0.5382661403675473}. Best is trial 1 with value: 0.7815959638842692.\n",
      "[I 2025-03-08 11:39:58,383] Trial 20 finished with value: 0.7709216578806075 and parameters: {'n_estimators': 117, 'learning_rate': 0.0033428774358855488, 'max_depth': 8, 'gamma': 0.15491309029675215, 'subsample': 0.8316918821914819, 'colsample_bytree': 0.5502220334566439, 'reg_alpha': 1.1343555276720421e-06, 'reg_lambda': 0.0001628569408333862, 'min_child_weight': 4, 'colsample_bylevel': 0.9425782172788798}. Best is trial 1 with value: 0.7815959638842692.\n",
      "[I 2025-03-08 11:40:00,095] Trial 21 finished with value: 0.7806737029518402 and parameters: {'n_estimators': 432, 'learning_rate': 0.19931304991522475, 'max_depth': 6, 'gamma': 0.0006527943115219592, 'subsample': 0.9504271883524458, 'colsample_bytree': 0.5288350115322895, 'reg_alpha': 1.927903045392217e-06, 'reg_lambda': 4.774058866557024, 'min_child_weight': 9, 'colsample_bylevel': 0.8449043237132047}. Best is trial 1 with value: 0.7815959638842692.\n",
      "[I 2025-03-08 11:40:01,346] Trial 22 finished with value: 0.7810494385091685 and parameters: {'n_estimators': 393, 'learning_rate': 0.1733034543792895, 'max_depth': 5, 'gamma': 0.11191014767278143, 'subsample': 0.9656784847657693, 'colsample_bytree': 0.5021456164308127, 'reg_alpha': 1.1768710190516906e-07, 'reg_lambda': 6.547699772168981, 'min_child_weight': 8, 'colsample_bylevel': 0.8021351119238043}. Best is trial 1 with value: 0.7815959638842692.\n",
      "[I 2025-03-08 11:40:02,397] Trial 23 finished with value: 0.7803491779426542 and parameters: {'n_estimators': 469, 'learning_rate': 0.1354058959733659, 'max_depth': 5, 'gamma': 0.25353328348657667, 'subsample': 0.99742004911597, 'colsample_bytree': 0.5938415505690137, 'reg_alpha': 1.549333228072279e-08, 'reg_lambda': 0.7017942501099914, 'min_child_weight': 8, 'colsample_bylevel': 0.7551064888820342}. Best is trial 1 with value: 0.7815959638842692.\n",
      "[I 2025-03-08 11:40:03,490] Trial 24 finished with value: 0.7777702862585636 and parameters: {'n_estimators': 387, 'learning_rate': 0.04511983952611441, 'max_depth': 4, 'gamma': 0.3451433064063263, 'subsample': 0.8781221545978236, 'colsample_bytree': 0.5669037084357864, 'reg_alpha': 1.0141476399579757e-07, 'reg_lambda': 0.17810812285971564, 'min_child_weight': 9, 'colsample_bylevel': 0.7997123516193072}. Best is trial 1 with value: 0.7815959638842692.\n",
      "[I 2025-03-08 11:40:04,568] Trial 25 finished with value: 0.7815276578743364 and parameters: {'n_estimators': 374, 'learning_rate': 0.16138143734351426, 'max_depth': 4, 'gamma': 0.11432866838726645, 'subsample': 0.7667239828279462, 'colsample_bytree': 0.6216431279817791, 'reg_alpha': 2.3110003125600235e-07, 'reg_lambda': 2.275924756796778, 'min_child_weight': 6, 'colsample_bylevel': 0.708208368454433}. Best is trial 1 with value: 0.7815959638842692.\n",
      "[I 2025-03-08 11:40:06,772] Trial 26 finished with value: 0.7800417702713828 and parameters: {'n_estimators': 462, 'learning_rate': 0.018619030569296955, 'max_depth': 9, 'gamma': 0.19074202436665977, 'subsample': 0.7726637021154925, 'colsample_bytree': 0.628238875356445, 'reg_alpha': 4.1028614196676024e-07, 'reg_lambda': 0.008427153592779603, 'min_child_weight': 6, 'colsample_bylevel': 0.5978708097082834}. Best is trial 1 with value: 0.7815959638842692.\n",
      "[I 2025-03-08 11:40:07,443] Trial 27 finished with value: 0.7797685112298531 and parameters: {'n_estimators': 236, 'learning_rate': 0.10382555040274859, 'max_depth': 4, 'gamma': 0.5925062474268677, 'subsample': 0.6941163396314294, 'colsample_bytree': 0.6716663109771829, 'reg_alpha': 9.017558627697835e-06, 'reg_lambda': 1.7395482744680497, 'min_child_weight': 4, 'colsample_bylevel': 0.7155737990269551}. Best is trial 1 with value: 0.7815959638842692.\n",
      "[I 2025-03-08 11:40:08,659] Trial 28 finished with value: 0.7806224617771245 and parameters: {'n_estimators': 306, 'learning_rate': 0.16518869314928314, 'max_depth': 10, 'gamma': 0.33334916741387555, 'subsample': 0.8333266618461888, 'colsample_bytree': 0.6182866767493898, 'reg_alpha': 9.89403163838758e-05, 'reg_lambda': 0.05525057492592447, 'min_child_weight': 7, 'colsample_bylevel': 0.6164007131462428}. Best is trial 1 with value: 0.7815959638842692.\n",
      "[I 2025-03-08 11:40:09,589] Trial 29 finished with value: 0.7768821768726929 and parameters: {'n_estimators': 365, 'learning_rate': 0.07129221133202561, 'max_depth': 3, 'gamma': 0.46446096088479993, 'subsample': 0.7689590892592388, 'colsample_bytree': 0.7451939675927106, 'reg_alpha': 0.00249398874262945, 'reg_lambda': 0.19786572228236857, 'min_child_weight': 3, 'colsample_bylevel': 0.7112218214544725}. Best is trial 1 with value: 0.7815959638842692.\n",
      "[I 2025-03-08 11:40:11,281] Trial 30 finished with value: 0.7800417775634241 and parameters: {'n_estimators': 455, 'learning_rate': 0.29823954335657743, 'max_depth': 7, 'gamma': 0.2091798779385129, 'subsample': 0.6106779359977128, 'colsample_bytree': 0.8188602586859274, 'reg_alpha': 1.1021296619079568e-08, 'reg_lambda': 0.005310684864357748, 'min_child_weight': 6, 'colsample_bylevel': 0.9851814580964687}. Best is trial 1 with value: 0.7815959638842692.\n",
      "[I 2025-03-08 11:40:11,827] Trial 31 finished with value: 0.780724928084065 and parameters: {'n_estimators': 158, 'learning_rate': 0.17216639571312362, 'max_depth': 5, 'gamma': 0.0921850115125539, 'subsample': 0.9198535181134391, 'colsample_bytree': 0.5476211035233853, 'reg_alpha': 6.392425479228088e-08, 'reg_lambda': 2.032073391174754, 'min_child_weight': 8, 'colsample_bylevel': 0.8198270112761807}. Best is trial 1 with value: 0.7815959638842692.\n",
      "[I 2025-03-08 11:40:12,847] Trial 32 finished with value: 0.7809469474092872 and parameters: {'n_estimators': 381, 'learning_rate': 0.12536495892591396, 'max_depth': 4, 'gamma': 0.12801431558513435, 'subsample': 0.9613830745545283, 'colsample_bytree': 0.500502952850427, 'reg_alpha': 2.393065914224198e-07, 'reg_lambda': 9.323258520118038, 'min_child_weight': 9, 'colsample_bylevel': 0.7597629772835368}. Best is trial 1 with value: 0.7815959638842692.\n",
      "[I 2025-03-08 11:40:13,847] Trial 33 finished with value: 0.7811689769433673 and parameters: {'n_estimators': 295, 'learning_rate': 0.09450299350376172, 'max_depth': 6, 'gamma': 0.12213793335659298, 'subsample': 0.9217137382947624, 'colsample_bytree': 0.6532326738009888, 'reg_alpha': 5.571720465636801e-07, 'reg_lambda': 1.5217656391575254, 'min_child_weight': 7, 'colsample_bylevel': 0.8771664878653616}. Best is trial 1 with value: 0.7815959638842692.\n",
      "[I 2025-03-08 11:40:14,931] Trial 34 finished with value: 0.7812373004541994 and parameters: {'n_estimators': 290, 'learning_rate': 0.09531269494262076, 'max_depth': 6, 'gamma': 0.2299644754323538, 'subsample': 0.8624376004240751, 'colsample_bytree': 0.7091028360063962, 'reg_alpha': 7.16699591058334e-06, 'reg_lambda': 0.12427878103068761, 'min_child_weight': 5, 'colsample_bylevel': 0.8761109412619422}. Best is trial 1 with value: 0.7815959638842692.\n",
      "[I 2025-03-08 11:40:15,517] Trial 35 finished with value: 0.7545771728040984 and parameters: {'n_estimators': 232, 'learning_rate': 0.005307732635652567, 'max_depth': 3, 'gamma': 0.3027822224130512, 'subsample': 0.7899342153020572, 'colsample_bytree': 0.7012659128791727, 'reg_alpha': 3.99094066611432e-06, 'reg_lambda': 0.08137889349275854, 'min_child_weight': 5, 'colsample_bylevel': 0.9641025976516905}. Best is trial 1 with value: 0.7815959638842692.\n",
      "[I 2025-03-08 11:40:17,192] Trial 36 finished with value: 0.778026467339202 and parameters: {'n_estimators': 324, 'learning_rate': 0.012714003794396168, 'max_depth': 9, 'gamma': 0.23862085579417713, 'subsample': 0.7409004658863759, 'colsample_bytree': 0.7651769588011312, 'reg_alpha': 0.00012913170824575048, 'reg_lambda': 0.018250972919517782, 'min_child_weight': 3, 'colsample_bylevel': 0.9169061673291711}. Best is trial 1 with value: 0.7815959638842692.\n",
      "[I 2025-03-08 11:40:17,810] Trial 37 finished with value: 0.7779068997368375 and parameters: {'n_estimators': 160, 'learning_rate': 0.04502760534026963, 'max_depth': 6, 'gamma': 0.5373454921568306, 'subsample': 0.8419526815426726, 'colsample_bytree': 0.6667810411398892, 'reg_alpha': 3.962762612898334e-05, 'reg_lambda': 0.15201129488626905, 'min_child_weight': 5, 'colsample_bylevel': 0.8779978926714138}. Best is trial 1 with value: 0.7815959638842692.\n",
      "[I 2025-03-08 11:40:18,252] Trial 38 finished with value: 0.7794781800610651 and parameters: {'n_estimators': 85, 'learning_rate': 0.08909293388599901, 'max_depth': 8, 'gamma': 0.3025981059625546, 'subsample': 0.7975756100770561, 'colsample_bytree': 0.592235908097145, 'reg_alpha': 0.000271641891542866, 'reg_lambda': 0.0010086953896869197, 'min_child_weight': 4, 'colsample_bylevel': 0.9625324435919174}. Best is trial 1 with value: 0.7815959638842692.\n",
      "[I 2025-03-08 11:40:19,691] Trial 39 finished with value: 0.7802638260568118 and parameters: {'n_estimators': 355, 'learning_rate': 0.026294304749719905, 'max_depth': 7, 'gamma': 0.4105614944431549, 'subsample': 0.7085580331546648, 'colsample_bytree': 0.7044291002222185, 'reg_alpha': 0.0007420909420458981, 'reg_lambda': 0.03626557167121185, 'min_child_weight': 5, 'colsample_bylevel': 0.6813045412715677}. Best is trial 1 with value: 0.7815959638842692.\n",
      "[I 2025-03-08 11:40:20,367] Trial 40 finished with value: 0.7749010240286618 and parameters: {'n_estimators': 275, 'learning_rate': 0.06361750996610542, 'max_depth': 3, 'gamma': 0.23162522518110848, 'subsample': 0.882812650998514, 'colsample_bytree': 0.8498744395379274, 'reg_alpha': 1.077024951701345e-05, 'reg_lambda': 0.27232861287760524, 'min_child_weight': 6, 'colsample_bylevel': 0.8769388096112442}. Best is trial 1 with value: 0.7815959638842692.\n",
      "[I 2025-03-08 11:40:21,349] Trial 41 finished with value: 0.781237293162158 and parameters: {'n_estimators': 288, 'learning_rate': 0.09807692243949463, 'max_depth': 6, 'gamma': 0.04591949929139802, 'subsample': 0.9281411738187784, 'colsample_bytree': 0.6534401955784084, 'reg_alpha': 5.546317004901644e-07, 'reg_lambda': 1.8936522118333075, 'min_child_weight': 7, 'colsample_bylevel': 0.8763916472007311}. Best is trial 1 with value: 0.7815959638842692.\n",
      "[I 2025-03-08 11:40:22,012] Trial 42 finished with value: 0.7808274118919047 and parameters: {'n_estimators': 207, 'learning_rate': 0.10617505412652671, 'max_depth': 5, 'gamma': 0.06806059834574354, 'subsample': 0.8933938330145673, 'colsample_bytree': 0.6094318684014608, 'reg_alpha': 4.905394691935381e-06, 'reg_lambda': 2.220246801486323, 'min_child_weight': 6, 'colsample_bylevel': 0.9007568573449719}. Best is trial 1 with value: 0.7815959638842692.\n",
      "[I 2025-03-08 11:40:23,095] Trial 43 finished with value: 0.7808103178885224 and parameters: {'n_estimators': 326, 'learning_rate': 0.07987614798630265, 'max_depth': 6, 'gamma': 0.029350754849229502, 'subsample': 0.9359428815656639, 'colsample_bytree': 0.6441349316918801, 'reg_alpha': 5.439186106992634e-07, 'reg_lambda': 0.3626191740260614, 'min_child_weight': 5, 'colsample_bylevel': 0.9358235079039829}. Best is trial 1 with value: 0.7815959638842692.\n",
      "[I 2025-03-08 11:40:23,738] Trial 44 finished with value: 0.7808615648968712 and parameters: {'n_estimators': 282, 'learning_rate': 0.22614161010814504, 'max_depth': 7, 'gamma': 0.8781407247344438, 'subsample': 0.8510196108993316, 'colsample_bytree': 0.6870237099090166, 'reg_alpha': 2.866102549705871e-08, 'reg_lambda': 0.08124149837905732, 'min_child_weight': 7, 'colsample_bylevel': 0.8233288843996901}. Best is trial 1 with value: 0.7815959638842692.\n",
      "[I 2025-03-08 11:40:24,493] Trial 45 finished with value: 0.7755841482979537 and parameters: {'n_estimators': 236, 'learning_rate': 0.04851902333239973, 'max_depth': 4, 'gamma': 0.15320538771029726, 'subsample': 0.8138550241000484, 'colsample_bytree': 0.7192071591047186, 'reg_alpha': 0.02352458383815376, 'reg_lambda': 0.01182666632562184, 'min_child_weight': 6, 'colsample_bylevel': 0.8852719705839095}. Best is trial 1 with value: 0.7815959638842692.\n",
      "[I 2025-03-08 11:40:25,611] Trial 46 finished with value: 0.7809298665315791 and parameters: {'n_estimators': 261, 'learning_rate': 0.15312481651619206, 'max_depth': 8, 'gamma': 0.27969479718191154, 'subsample': 0.544882653991654, 'colsample_bytree': 0.5764008247291303, 'reg_alpha': 2.9097452042234204e-05, 'reg_lambda': 3.2694052679221293, 'min_child_weight': 7, 'colsample_bylevel': 0.7345802131616094}. Best is trial 1 with value: 0.7815959638842692.\n",
      "[I 2025-03-08 11:40:26,304] Trial 47 finished with value: 0.7770188209775405 and parameters: {'n_estimators': 184, 'learning_rate': 0.03667525742885007, 'max_depth': 6, 'gamma': 0.05510846254959022, 'subsample': 0.666330313824207, 'colsample_bytree': 0.964469142324348, 'reg_alpha': 0.993022182588441, 'reg_lambda': 2.043156270519763e-06, 'min_child_weight': 10, 'colsample_bylevel': 0.7767623248030946}. Best is trial 1 with value: 0.7815959638842692.\n",
      "[I 2025-03-08 11:40:28,035] Trial 48 finished with value: 0.7807590956731141 and parameters: {'n_estimators': 484, 'learning_rate': 0.10434901429738691, 'max_depth': 8, 'gamma': 0.2067151834225947, 'subsample': 0.874128644387192, 'colsample_bytree': 0.6476940729125816, 'reg_alpha': 0.14497756877257462, 'reg_lambda': 1.015681481865896, 'min_child_weight': 4, 'colsample_bylevel': 0.8600204747682568}. Best is trial 1 with value: 0.7815959638842692.\n",
      "[I 2025-03-08 11:40:29,312] Trial 49 finished with value: 0.7807078676240728 and parameters: {'n_estimators': 321, 'learning_rate': 0.06767463044067218, 'max_depth': 7, 'gamma': 0.09574528518058684, 'subsample': 0.746746348080135, 'colsample_bytree': 0.6123582757982973, 'reg_alpha': 2.4939417802312513e-06, 'reg_lambda': 0.004288076181870836, 'min_child_weight': 5, 'colsample_bylevel': 0.9154563264670793}. Best is trial 1 with value: 0.7815959638842692.\n",
      "[I 2025-03-08 11:40:30,082] Trial 50 finished with value: 0.7805370705142588 and parameters: {'n_estimators': 347, 'learning_rate': 0.23767890749999257, 'max_depth': 9, 'gamma': 0.043460298485428095, 'subsample': 0.9990006281572513, 'colsample_bytree': 0.7154567193429906, 'reg_alpha': 8.578420536076053e-07, 'reg_lambda': 2.61649376733764e-08, 'min_child_weight': 8, 'colsample_bylevel': 0.9981473273603281}. Best is trial 1 with value: 0.7815959638842692.\n",
      "[I 2025-03-08 11:40:31,064] Trial 51 finished with value: 0.7810665033443854 and parameters: {'n_estimators': 295, 'learning_rate': 0.0832298669512495, 'max_depth': 6, 'gamma': 0.13685740298365281, 'subsample': 0.9127313498441372, 'colsample_bytree': 0.6552567815160028, 'reg_alpha': 2.686183687668419e-07, 'reg_lambda': 1.3470155656096916, 'min_child_weight': 7, 'colsample_bylevel': 0.8254796248262344}. Best is trial 1 with value: 0.7815959638842692.\n",
      "[I 2025-03-08 11:40:31,908] Trial 52 finished with value: 0.7809981987928609 and parameters: {'n_estimators': 284, 'learning_rate': 0.11100933319430484, 'max_depth': 5, 'gamma': 0.11222072742075942, 'subsample': 0.9009880630345237, 'colsample_bytree': 0.6807310286860417, 'reg_alpha': 5.66322315805452e-08, 'reg_lambda': 0.319351385229025, 'min_child_weight': 7, 'colsample_bylevel': 0.8678096996026956}. Best is trial 1 with value: 0.7815959638842692.\n",
      "[I 2025-03-08 11:40:32,816] Trial 53 finished with value: 0.7803321247747033 and parameters: {'n_estimators': 306, 'learning_rate': 0.20129467058471995, 'max_depth': 6, 'gamma': 0.18345146440639498, 'subsample': 0.94062596598734, 'colsample_bytree': 0.6616057206887104, 'reg_alpha': 4.217935742025876e-07, 'reg_lambda': 0.7738421509861091, 'min_child_weight': 6, 'colsample_bylevel': 0.9574863504772215}. Best is trial 1 with value: 0.7815959638842692.\n",
      "[I 2025-03-08 11:40:33,600] Trial 54 finished with value: 0.7785388484597859 and parameters: {'n_estimators': 248, 'learning_rate': 0.05457059897654257, 'max_depth': 5, 'gamma': 0.4974684845037749, 'subsample': 0.975739991357866, 'colsample_bytree': 0.6366247216542227, 'reg_alpha': 7.085736716408018e-07, 'reg_lambda': 2.525480931328657, 'min_child_weight': 7, 'colsample_bylevel': 0.8929388608016637}. Best is trial 1 with value: 0.7815959638842692.\n",
      "[I 2025-03-08 11:40:34,433] Trial 55 finished with value: 0.7808444825607549 and parameters: {'n_estimators': 220, 'learning_rate': 0.09100240120331024, 'max_depth': 6, 'gamma': 0.003333839861413751, 'subsample': 0.8585229633620811, 'colsample_bytree': 0.7403855119085404, 'reg_alpha': 1.5664817365278055e-05, 'reg_lambda': 9.595784120475617, 'min_child_weight': 8, 'colsample_bylevel': 0.7758180043469016}. Best is trial 1 with value: 0.7815959638842692.\n",
      "[I 2025-03-08 11:40:35,941] Trial 56 finished with value: 0.7797001891774293 and parameters: {'n_estimators': 436, 'learning_rate': 0.03815021198592491, 'max_depth': 7, 'gamma': 0.14176961989580872, 'subsample': 0.9347715303348386, 'colsample_bytree': 0.5323030031676648, 'reg_alpha': 9.289265026890698, 'reg_lambda': 0.13143831832643824, 'min_child_weight': 5, 'colsample_bylevel': 0.6462795746611891}. Best is trial 1 with value: 0.7815959638842692.\n",
      "[I 2025-03-08 11:40:36,885] Trial 57 finished with value: 0.7808274191839463 and parameters: {'n_estimators': 271, 'learning_rate': 0.1408314345030527, 'max_depth': 6, 'gamma': 0.3748491579707405, 'subsample': 0.8164226242195926, 'colsample_bytree': 0.773606660179486, 'reg_alpha': 3.5869806602035033e-06, 'reg_lambda': 4.048300944219773, 'min_child_weight': 6, 'colsample_bylevel': 0.9154398165099815}. Best is trial 1 with value: 0.7815959638842692.\n",
      "[I 2025-03-08 11:40:38,897] Trial 58 finished with value: 0.780468748461835 and parameters: {'n_estimators': 406, 'learning_rate': 0.20207994297430776, 'max_depth': 10, 'gamma': 0.07467452769037136, 'subsample': 0.9165291747608195, 'colsample_bytree': 0.5744067861913212, 'reg_alpha': 1.1299975401851412e-06, 'reg_lambda': 0.5244426506962997, 'min_child_weight': 8, 'colsample_bylevel': 0.8556450034830332}. Best is trial 1 with value: 0.7815959638842692.\n",
      "[I 2025-03-08 11:40:39,974] Trial 59 finished with value: 0.7804346187914011 and parameters: {'n_estimators': 341, 'learning_rate': 0.12525560764084054, 'max_depth': 5, 'gamma': 0.7011968583101663, 'subsample': 0.5739270228227813, 'colsample_bytree': 0.6026482903872217, 'reg_alpha': 1.3293986181249372e-07, 'reg_lambda': 0.042498982071297875, 'min_child_weight': 9, 'colsample_bylevel': 0.7328763595988174}. Best is trial 1 with value: 0.7815959638842692.\n",
      "[I 2025-03-08 11:40:40,259] Trial 60 finished with value: 0.7609817406554861 and parameters: {'n_estimators': 78, 'learning_rate': 0.021165631671248655, 'max_depth': 4, 'gamma': 0.21930407440084682, 'subsample': 0.6320433363824093, 'colsample_bytree': 0.6939563122917294, 'reg_alpha': 2.904300474963411e-08, 'reg_lambda': 1.2137210337112145, 'min_child_weight': 7, 'colsample_bylevel': 0.9472546134507126}. Best is trial 1 with value: 0.7815959638842692.\n",
      "[I 2025-03-08 11:40:41,241] Trial 61 finished with value: 0.7814251857337627 and parameters: {'n_estimators': 304, 'learning_rate': 0.08123783224198723, 'max_depth': 6, 'gamma': 0.15059357231070603, 'subsample': 0.9086354830533206, 'colsample_bytree': 0.6550811729812066, 'reg_alpha': 1.8803890722310172e-07, 'reg_lambda': 1.1370070109028503, 'min_child_weight': 7, 'colsample_bylevel': 0.8276981603809179}. Best is trial 1 with value: 0.7815959638842692.\n",
      "[I 2025-03-08 11:40:42,273] Trial 62 finished with value: 0.7811348137295431 and parameters: {'n_estimators': 368, 'learning_rate': 0.07719672052943957, 'max_depth': 6, 'gamma': 0.2792252687136181, 'subsample': 0.9563288993366943, 'colsample_bytree': 0.6331846239950257, 'reg_alpha': 2.8754011757915094e-07, 'reg_lambda': 0.4525196701922106, 'min_child_weight': 7, 'colsample_bylevel': 0.8369272544326722}. Best is trial 1 with value: 0.7815959638842692.\n",
      "[I 2025-03-08 11:40:43,458] Trial 63 finished with value: 0.7807590869226644 and parameters: {'n_estimators': 295, 'learning_rate': 0.05946922893313781, 'max_depth': 7, 'gamma': 0.17707484817558133, 'subsample': 0.9033690204742497, 'colsample_bytree': 0.6718095675808501, 'reg_alpha': 6.769060603947099e-06, 'reg_lambda': 1.5391843068889972, 'min_child_weight': 6, 'colsample_bylevel': 0.8104316467800593}. Best is trial 1 with value: 0.7815959638842692.\n",
      "[I 2025-03-08 11:40:44,280] Trial 64 finished with value: 0.7807591044235638 and parameters: {'n_estimators': 253, 'learning_rate': 0.1640605425489623, 'max_depth': 6, 'gamma': 0.583245164770352, 'subsample': 0.8689409674982339, 'colsample_bytree': 0.6281742639690702, 'reg_alpha': 2.106956054427171e-06, 'reg_lambda': 3.591306262907505, 'min_child_weight': 8, 'colsample_bylevel': 0.873694373004433}. Best is trial 1 with value: 0.7815959638842692.\n",
      "[I 2025-03-08 11:40:44,680] Trial 65 finished with value: 0.7781801966969824 and parameters: {'n_estimators': 103, 'learning_rate': 0.1135533476586995, 'max_depth': 5, 'gamma': 0.09157286472026725, 'subsample': 0.9810596196088663, 'colsample_bytree': 0.6568748880730876, 'reg_alpha': 7.317559024740922e-08, 'reg_lambda': 0.08256801341095275, 'min_child_weight': 6, 'colsample_bylevel': 0.7834409851418915}. Best is trial 1 with value: 0.7815959638842692.\n",
      "[I 2025-03-08 11:40:45,701] Trial 66 finished with value: 0.7813568432636231 and parameters: {'n_estimators': 320, 'learning_rate': 0.09239229841879258, 'max_depth': 6, 'gamma': 0.32718307230568183, 'subsample': 0.929282842521182, 'colsample_bytree': 0.7028001557166981, 'reg_alpha': 1.308705114151754e-06, 'reg_lambda': 0.2119585914554073, 'min_child_weight': 1, 'colsample_bylevel': 0.5101197686524857}. Best is trial 1 with value: 0.7815959638842692.\n",
      "[I 2025-03-08 11:40:46,633] Trial 67 finished with value: 0.7804345896232355 and parameters: {'n_estimators': 313, 'learning_rate': 0.2681671918059541, 'max_depth': 7, 'gamma': 0.33482554741763687, 'subsample': 0.8833478688022371, 'colsample_bytree': 0.7263426216129587, 'reg_alpha': 1.8726778464086853e-07, 'reg_lambda': 1.7448583467954114e-05, 'min_child_weight': 1, 'colsample_bylevel': 0.5020917206436993}. Best is trial 1 with value: 0.7815959638842692.\n",
      "[I 2025-03-08 11:40:48,311] Trial 68 finished with value: 0.7752426080394319 and parameters: {'n_estimators': 372, 'learning_rate': 0.006918717067551177, 'max_depth': 8, 'gamma': 0.41173388930317356, 'subsample': 0.9431896015383578, 'colsample_bytree': 0.7602299061603991, 'reg_alpha': 6.160789123343431e-05, 'reg_lambda': 0.231260007495307, 'min_child_weight': 2, 'colsample_bylevel': 0.5799443209095598}. Best is trial 1 with value: 0.7815959638842692.\n",
      "[I 2025-03-08 11:40:49,461] Trial 69 finished with value: 0.7630824421425738 and parameters: {'n_estimators': 339, 'learning_rate': 0.0010247129213593203, 'max_depth': 5, 'gamma': 0.2548502076982791, 'subsample': 0.7787623514080935, 'colsample_bytree': 0.791930533995286, 'reg_alpha': 2.3571095108166633e-06, 'reg_lambda': 0.01552486724820985, 'min_child_weight': 2, 'colsample_bylevel': 0.5515369794522049}. Best is trial 1 with value: 0.7815959638842692.\n",
      "[I 2025-03-08 11:40:51,283] Trial 70 finished with value: 0.7804004468271272 and parameters: {'n_estimators': 500, 'learning_rate': 0.1796789628609176, 'max_depth': 7, 'gamma': 0.3629819963458931, 'subsample': 0.5041538087751491, 'colsample_bytree': 0.7052649565493474, 'reg_alpha': 1.3276971524347982e-06, 'reg_lambda': 0.00030866616104389835, 'min_child_weight': 3, 'colsample_bylevel': 0.6761524647375023}. Best is trial 1 with value: 0.7815959638842692.\n",
      "[I 2025-03-08 11:40:52,236] Trial 71 finished with value: 0.7809298665315791 and parameters: {'n_estimators': 290, 'learning_rate': 0.09420073045171419, 'max_depth': 6, 'gamma': 0.12154966314975899, 'subsample': 0.9324625398591377, 'colsample_bytree': 0.6873736520554907, 'reg_alpha': 5.825062794335012e-07, 'reg_lambda': 0.9273568683092798, 'min_child_weight': 7, 'colsample_bylevel': 0.8312378625485017}. Best is trial 1 with value: 0.7815959638842692.\n",
      "[I 2025-03-08 11:40:53,132] Trial 72 finished with value: 0.7806224690691659 and parameters: {'n_estimators': 268, 'learning_rate': 0.07343872149494718, 'max_depth': 6, 'gamma': 0.3070517370932764, 'subsample': 0.9706088989633169, 'colsample_bytree': 0.6221087489942996, 'reg_alpha': 1.599170916128547e-07, 'reg_lambda': 0.40605440682165106, 'min_child_weight': 4, 'colsample_bylevel': 0.8535959338914112}. Best is trial 1 with value: 0.7815959638842692.\n",
      "[I 2025-03-08 11:40:54,280] Trial 73 finished with value: 0.7808274118919049 and parameters: {'n_estimators': 311, 'learning_rate': 0.14199216967166314, 'max_depth': 6, 'gamma': 0.15872699853477482, 'subsample': 0.9237291255016076, 'colsample_bytree': 0.5844221397603526, 'reg_alpha': 4.1344140221530596e-08, 'reg_lambda': 5.322659613477555, 'min_child_weight': 1, 'colsample_bylevel': 0.975380313119998}. Best is trial 1 with value: 0.7815959638842692.\n",
      "[I 2025-03-08 11:40:54,603] Trial 74 finished with value: 0.7733297597469253 and parameters: {'n_estimators': 57, 'learning_rate': 0.0514235146969692, 'max_depth': 6, 'gamma': 0.029889427951016206, 'subsample': 0.8895933335862397, 'colsample_bytree': 0.5545520355570956, 'reg_alpha': 0.009158949249164425, 'reg_lambda': 0.1358908122075211, 'min_child_weight': 9, 'colsample_bylevel': 0.9287037382452437}. Best is trial 1 with value: 0.7815959638842692.\n",
      "[I 2025-03-08 11:40:55,609] Trial 75 finished with value: 0.7809640239117704 and parameters: {'n_estimators': 333, 'learning_rate': 0.12055138263592977, 'max_depth': 5, 'gamma': 0.1971968030611801, 'subsample': 0.9123672951439158, 'colsample_bytree': 0.6670465063234594, 'reg_alpha': 3.0487291646664394e-07, 'reg_lambda': 0.06408970182655274, 'min_child_weight': 7, 'colsample_bylevel': 0.8941128199057844}. Best is trial 1 with value: 0.7815959638842692.\n",
      "[I 2025-03-08 11:40:56,939] Trial 76 finished with value: 0.7811860782387912 and parameters: {'n_estimators': 447, 'learning_rate': 0.09395898987882714, 'max_depth': 9, 'gamma': 0.22465344154354586, 'subsample': 0.9562001587378585, 'colsample_bytree': 0.7067895768418517, 'reg_alpha': 1.754747534610399e-05, 'reg_lambda': 0.7475370215754403, 'min_child_weight': 8, 'colsample_bylevel': 0.8397232279802612}. Best is trial 1 with value: 0.7815959638842692.\n",
      "[I 2025-03-08 11:41:00,162] Trial 77 finished with value: 0.780724928084065 and parameters: {'n_estimators': 488, 'learning_rate': 0.06792440937272297, 'max_depth': 10, 'gamma': 0.23472880612712363, 'subsample': 0.7169456764928848, 'colsample_bytree': 0.7331628559562402, 'reg_alpha': 1.6758526438280302e-05, 'reg_lambda': 0.710180622383339, 'min_child_weight': 9, 'colsample_bylevel': 0.809505431393311}. Best is trial 1 with value: 0.7815959638842692.\n",
      "[I 2025-03-08 11:41:02,085] Trial 78 finished with value: 0.7809981958760444 and parameters: {'n_estimators': 449, 'learning_rate': 0.04210757090934999, 'max_depth': 9, 'gamma': 0.4401093816208173, 'subsample': 0.9533036226772834, 'colsample_bytree': 0.7120873637517566, 'reg_alpha': 7.373343313948687e-06, 'reg_lambda': 0.022156824404605455, 'min_child_weight': 5, 'colsample_bylevel': 0.7961007593989845}. Best is trial 1 with value: 0.7815959638842692.\n",
      "[I 2025-03-08 11:41:03,817] Trial 79 finished with value: 0.7810152986298764 and parameters: {'n_estimators': 409, 'learning_rate': 0.1476207152300865, 'max_depth': 9, 'gamma': 0.3087623823717296, 'subsample': 0.8468108589277111, 'colsample_bytree': 0.6957580191178896, 'reg_alpha': 0.8205741313781502, 'reg_lambda': 0.23965670483995294, 'min_child_weight': 8, 'colsample_bylevel': 0.6169533016578168}. Best is trial 1 with value: 0.7815959638842692.\n",
      "[I 2025-03-08 11:41:05,892] Trial 80 finished with value: 0.7803321262331115 and parameters: {'n_estimators': 356, 'learning_rate': 0.08678625846260983, 'max_depth': 9, 'gamma': 0.38933529332910516, 'subsample': 0.6101842735172562, 'colsample_bytree': 0.7536973512250222, 'reg_alpha': 0.0011913687934337928, 'reg_lambda': 2.5479325773119825, 'min_child_weight': 8, 'colsample_bylevel': 0.8432255849104824}. Best is trial 1 with value: 0.7815959638842692.\n",
      "[I 2025-03-08 11:41:07,905] Trial 81 finished with value: 0.7806053779825999 and parameters: {'n_estimators': 472, 'learning_rate': 0.10375798822337205, 'max_depth': 8, 'gamma': 0.2621546745571764, 'subsample': 0.9029505219262657, 'colsample_bytree': 0.6784741240874357, 'reg_alpha': 0.00015466619780452818, 'reg_lambda': 1.481887745178633, 'min_child_weight': 7, 'colsample_bylevel': 0.8651456783038872}. Best is trial 1 with value: 0.7815959638842692.\n",
      "[I 2025-03-08 11:41:09,988] Trial 82 finished with value: 0.7809811310408273 and parameters: {'n_estimators': 444, 'learning_rate': 0.12122911875443249, 'max_depth': 6, 'gamma': 0.1721900122436057, 'subsample': 0.9263747062687242, 'colsample_bytree': 0.6467117002220414, 'reg_alpha': 4.436149283226918e-06, 'reg_lambda': 6.073658860626635, 'min_child_weight': 8, 'colsample_bylevel': 0.9070993900110821}. Best is trial 1 with value: 0.7815959638842692.\n",
      "[I 2025-03-08 11:41:12,398] Trial 83 finished with value: 0.7809469503261037 and parameters: {'n_estimators': 394, 'learning_rate': 0.06199442980713942, 'max_depth': 10, 'gamma': 0.11186610018425228, 'subsample': 0.958465217502145, 'colsample_bytree': 0.6035785772260306, 'reg_alpha': 9.156654744501876e-07, 'reg_lambda': 0.6199422701554825, 'min_child_weight': 6, 'colsample_bylevel': 0.818050206525889}. Best is trial 1 with value: 0.7815959638842692.\n",
      "[I 2025-03-08 11:41:13,871] Trial 84 finished with value: 0.7810835856805016 and parameters: {'n_estimators': 317, 'learning_rate': 0.10011589941198816, 'max_depth': 7, 'gamma': 0.20833929187608458, 'subsample': 0.9089518634665656, 'colsample_bytree': 0.6504324552881962, 'reg_alpha': 1.5176115328366225e-06, 'reg_lambda': 0.14678927243807072, 'min_child_weight': 8, 'colsample_bylevel': 0.8828637391589245}. Best is trial 1 with value: 0.7815959638842692.\n",
      "[I 2025-03-08 11:41:15,397] Trial 85 finished with value: 0.7634239882347289 and parameters: {'n_estimators': 469, 'learning_rate': 0.012688305961316329, 'max_depth': 3, 'gamma': 0.08703866509709918, 'subsample': 0.9901049377500503, 'colsample_bytree': 0.6755809665739807, 'reg_alpha': 4.80247188766686e-07, 'reg_lambda': 0.3288094800170272, 'min_child_weight': 10, 'colsample_bylevel': 0.7678122155402047}. Best is trial 1 with value: 0.7815959638842692.\n",
      "[I 2025-03-08 11:41:16,890] Trial 86 finished with value: 0.7804004322430443 and parameters: {'n_estimators': 422, 'learning_rate': 0.0842260087759374, 'max_depth': 4, 'gamma': 0.14293647742910873, 'subsample': 0.9453984136203454, 'colsample_bytree': 0.7070067993123429, 'reg_alpha': 3.8477256795096e-05, 'reg_lambda': 1.8319032323128133, 'min_child_weight': 7, 'colsample_bylevel': 0.8356481980134557}. Best is trial 1 with value: 0.7815959638842692.\n",
      "[I 2025-03-08 11:41:18,054] Trial 87 finished with value: 0.7802296643013957 and parameters: {'n_estimators': 284, 'learning_rate': 0.18842458006771523, 'max_depth': 5, 'gamma': 0.043428267141211854, 'subsample': 0.6771376391286901, 'colsample_bytree': 0.6906078062864265, 'reg_alpha': 3.0089645890542606e-06, 'reg_lambda': 0.946594968932003, 'min_child_weight': 6, 'colsample_bylevel': 0.9267402094652533}. Best is trial 1 with value: 0.7815959638842692.\n",
      "[I 2025-03-08 11:41:19,952] Trial 88 finished with value: 0.780861601357078 and parameters: {'n_estimators': 296, 'learning_rate': 0.15785982883543714, 'max_depth': 9, 'gamma': 0.24200226086938487, 'subsample': 0.7353388777977111, 'colsample_bytree': 0.7265483370895053, 'reg_alpha': 1.811486520490937e-08, 'reg_lambda': 0.030768381016075513, 'min_child_weight': 9, 'colsample_bylevel': 0.8889665730571991}. Best is trial 1 with value: 0.7815959638842692.\n",
      "[I 2025-03-08 11:41:20,794] Trial 89 finished with value: 0.7757720408695583 and parameters: {'n_estimators': 149, 'learning_rate': 0.0298422740966397, 'max_depth': 6, 'gamma': 0.27262158048449897, 'subsample': 0.9704227235274577, 'colsample_bytree': 0.6204501300444066, 'reg_alpha': 1.128994481980413e-05, 'reg_lambda': 3.680854745657017, 'min_child_weight': 5, 'colsample_bylevel': 0.7345229536699914}. Best is trial 1 with value: 0.7815959638842692.\n",
      "[I 2025-03-08 11:41:21,731] Trial 90 finished with value: 0.7807590781722149 and parameters: {'n_estimators': 244, 'learning_rate': 0.07664627502238087, 'max_depth': 7, 'gamma': 0.9451163697731784, 'subsample': 0.7554644998029323, 'colsample_bytree': 0.6382960465831712, 'reg_alpha': 1.1797591393174004e-07, 'reg_lambda': 0.10246584544094899, 'min_child_weight': 4, 'colsample_bylevel': 0.6968610234784577}. Best is trial 1 with value: 0.7815959638842692.\n",
      "[I 2025-03-08 11:41:23,141] Trial 91 finished with value: 0.7815618035872614 and parameters: {'n_estimators': 399, 'learning_rate': 0.0777270732218675, 'max_depth': 6, 'gamma': 0.1845355638161737, 'subsample': 0.9275951299164281, 'colsample_bytree': 0.6348788483673942, 'reg_alpha': 2.815968305350669e-07, 'reg_lambda': 0.4817145543935615, 'min_child_weight': 7, 'colsample_bylevel': 0.8394296800355936}. Best is trial 1 with value: 0.7815959638842692.\n",
      "[I 2025-03-08 11:41:24,590] Trial 92 finished with value: 0.7817155052352847 and parameters: {'n_estimators': 391, 'learning_rate': 0.0912046798212731, 'max_depth': 6, 'gamma': 0.18948000378208696, 'subsample': 0.9265292368892674, 'colsample_bytree': 0.6635313631128941, 'reg_alpha': 8.198535728428937e-07, 'reg_lambda': 0.5011114231011539, 'min_child_weight': 7, 'colsample_bylevel': 0.856588958280996}. Best is trial 92 with value: 0.7817155052352847.\n",
      "[I 2025-03-08 11:41:26,000] Trial 93 finished with value: 0.7810665208452847 and parameters: {'n_estimators': 380, 'learning_rate': 0.05988842620883929, 'max_depth': 6, 'gamma': 0.19477332832056984, 'subsample': 0.6465009541312515, 'colsample_bytree': 0.661907559362473, 'reg_alpha': 0.0004421533311640996, 'reg_lambda': 0.20684598926540293, 'min_child_weight': 7, 'colsample_bylevel': 0.854387217295126}. Best is trial 92 with value: 0.7817155052352847.\n",
      "[I 2025-03-08 11:41:27,325] Trial 94 finished with value: 0.7806566351998067 and parameters: {'n_estimators': 400, 'learning_rate': 0.13056944073119867, 'max_depth': 6, 'gamma': 0.2199014607101077, 'subsample': 0.8945703779387792, 'colsample_bytree': 0.5973097006024063, 'reg_alpha': 8.298740390575321e-07, 'reg_lambda': 0.5755436402987957, 'min_child_weight': 7, 'colsample_bylevel': 0.8425400891741556}. Best is trial 92 with value: 0.7817155052352847.\n",
      "[I 2025-03-08 11:41:28,809] Trial 95 finished with value: 0.7806053852746413 and parameters: {'n_estimators': 420, 'learning_rate': 0.2237532211213589, 'max_depth': 6, 'gamma': 0.16627049421895254, 'subsample': 0.8260828556368943, 'colsample_bytree': 0.7393839720572384, 'reg_alpha': 2.8929946916740605, 'reg_lambda': 0.3023572790555544, 'min_child_weight': 8, 'colsample_bylevel': 0.8081777466053552}. Best is trial 92 with value: 0.7817155052352847.\n",
      "[I 2025-03-08 11:41:30,263] Trial 96 finished with value: 0.7811348341472588 and parameters: {'n_estimators': 435, 'learning_rate': 0.06859469985261489, 'max_depth': 5, 'gamma': 0.3226969671318809, 'subsample': 0.8608763105166355, 'colsample_bytree': 0.6138248629664914, 'reg_alpha': 3.528425150275434e-07, 'reg_lambda': 0.007061818086232631, 'min_child_weight': 6, 'colsample_bylevel': 0.8688211911393349}. Best is trial 92 with value: 0.7817155052352847.\n",
      "[I 2025-03-08 11:41:31,286] Trial 97 finished with value: 0.7808786472329875 and parameters: {'n_estimators': 387, 'learning_rate': 0.09846275260962917, 'max_depth': 7, 'gamma': 0.48851693453706907, 'subsample': 0.9330466807185693, 'colsample_bytree': 0.6831179006344457, 'reg_alpha': 1.7006949929597228e-06, 'reg_lambda': 0.0023541505802007726, 'min_child_weight': 8, 'colsample_bylevel': 0.5173554327987877}. Best is trial 92 with value: 0.7817155052352847.\n",
      "[I 2025-03-08 11:41:32,354] Trial 98 finished with value: 0.7815788888401942 and parameters: {'n_estimators': 360, 'learning_rate': 0.11239984025044754, 'max_depth': 8, 'gamma': 0.2872283151220802, 'subsample': 0.9488646638851321, 'colsample_bytree': 0.6376330777419994, 'reg_alpha': 9.219799296009661e-08, 'reg_lambda': 2.303565362696345, 'min_child_weight': 6, 'colsample_bylevel': 0.7892532469887776}. Best is trial 92 with value: 0.7817155052352847.\n",
      "[I 2025-03-08 11:41:33,877] Trial 99 finished with value: 0.7805370850983415 and parameters: {'n_estimators': 365, 'learning_rate': 0.10787103231863523, 'max_depth': 8, 'gamma': 0.1871050261173805, 'subsample': 0.8855086269708521, 'colsample_bytree': 0.582893623666881, 'reg_alpha': 7.437803428745382e-08, 'reg_lambda': 2.2519299556889654, 'min_child_weight': 6, 'colsample_bylevel': 0.8234167162705809}. Best is trial 92 with value: 0.7817155052352847.\n"
     ]
    },
    {
     "name": "stdout",
     "output_type": "stream",
     "text": [
      "Best parameters: {'n_estimators': 391, 'learning_rate': 0.0912046798212731, 'max_depth': 6, 'gamma': 0.18948000378208696, 'subsample': 0.9265292368892674, 'colsample_bytree': 0.6635313631128941, 'reg_alpha': 8.198535728428937e-07, 'reg_lambda': 0.5011114231011539, 'min_child_weight': 7, 'colsample_bylevel': 0.856588958280996}\n",
      "Accuracy:  0.781\n",
      "Precision:  0.847\n",
      "Recall:  0.686\n",
      "F1:  0.758\n",
      "ROC:  0.781\n"
     ]
    }
   ],
   "source": [
    "import optuna\n",
    "from sklearn.model_selection import cross_val_score\n",
    "from xgboost import XGBClassifier  # Or XGBRegressor for regression\n",
    "\n",
    "def objective(trial):  # Define the objective function to be minimized/maximized\n",
    "\n",
    "    param_grid = {  # Define the hyperparameters to be tuned and their search spaces\n",
    "        'n_estimators': trial.suggest_int('n_estimators', 50, 500),  # Example range\n",
    "        'learning_rate': trial.suggest_float('learning_rate', 0.001, 0.3, log=True),  # Logarithmic scale is often better for learning rate\n",
    "        'max_depth': trial.suggest_int('max_depth', 3, 10),  # Example range\n",
    "        'gamma': trial.suggest_float('gamma', 0, 1),  # Example range\n",
    "        'subsample': trial.suggest_float('subsample', 0.5, 1.0),  # Example range\n",
    "        'colsample_bytree': trial.suggest_float('colsample_bytree', 0.5, 1.0), # Example range\n",
    "        'reg_alpha': trial.suggest_float('reg_alpha', 1e-8, 10.0, log=True),  # Log scale for regularization\n",
    "        'reg_lambda': trial.suggest_float('reg_lambda', 1e-8, 10.0, log=True),  # Log scale for regularization\n",
    "        'min_child_weight': trial.suggest_int('min_child_weight', 1, 10),  # Example range\n",
    "        'colsample_bylevel': trial.suggest_float('colsample_bylevel', 0.5, 1.0) }\n",
    "\n",
    "    # Choose the right objective for your task\n",
    "    model = XGBClassifier(use_label_encoder=False, eval_metric='logloss', **param_grid) \n",
    "\n",
    "    # Use cross-validation for robust performance estimation\n",
    "    scores = cross_val_score(model, X_train, y_train, cv=5, scoring='accuracy')\n",
    "    return scores.mean()  # Optuna minimizes by default. If your score is to be maximized, return -scores.mean()\n",
    "\n",
    "study = optuna.create_study(direction='maximize')  # 'maximize' for accuracy, 'minimize' for loss/error\n",
    "study.optimize(objective, n_trials=100)  # Adjust the number of trials as needed\n",
    "\n",
    "print(\"Best parameters:\", study.best_params)\n",
    "\n",
    "# Train the final model with the best hyperparameters\n",
    "best_xgb = XGBClassifier(use_label_encoder=False, eval_metric='logloss', **study.best_params)\n",
    "best_xgb.fit(X_train, y_train)\n",
    "\n",
    "# Predict\n",
    "y_pred = best_xgb.predict(X_test)\n",
    "\n",
    "# Evaluation\n",
    "acc = round(accuracy_score(y_test, y_pred),3)\n",
    "print('Accuracy: ', acc)\n",
    "pre = round(precision_score(y_test, y_pred),3)\n",
    "print('Precision: ', pre) \n",
    "rec = round(recall_score(y_test, y_pred),3)\n",
    "print('Recall: ',rec) \n",
    "f1 = round(f1_score(y_test, y_pred),3)\n",
    "print('F1: ', f1) \n",
    "roc = round(roc_auc_score(y_test, y_pred),3) \n",
    "print('ROC: ', roc)"
   ]
  },
  {
   "cell_type": "code",
   "execution_count": 36,
   "id": "3a600ffb-7360-4875-b113-ee1f57610f93",
   "metadata": {},
   "outputs": [
    {
     "name": "stdout",
     "output_type": "stream",
     "text": [
      ">1, train: 0.761, test: 0.761\n",
      ">2, train: 0.775, test: 0.775\n",
      ">3, train: 0.782, test: 0.779\n",
      ">4, train: 0.785, test: 0.780\n",
      ">5, train: 0.787, test: 0.780\n",
      ">6, train: 0.787, test: 0.781\n",
      ">7, train: 0.787, test: 0.781\n",
      ">8, train: 0.787, test: 0.781\n",
      ">9, train: 0.787, test: 0.781\n",
      ">10, train: 0.788, test: 0.781\n",
      ">11, train: 0.788, test: 0.781\n",
      ">12, train: 0.788, test: 0.781\n",
      ">13, train: 0.788, test: 0.781\n",
      ">14, train: 0.788, test: 0.781\n",
      ">15, train: 0.787, test: 0.781\n",
      ">16, train: 0.788, test: 0.781\n",
      ">17, train: 0.787, test: 0.781\n",
      ">18, train: 0.788, test: 0.781\n",
      ">19, train: 0.788, test: 0.781\n",
      ">20, train: 0.788, test: 0.781\n"
     ]
    }
   ],
   "source": [
    "# Evaluate random forest classifier performance on train and test sets with different tree depths\n",
    "train_scores, test_scores = list(), list()\n",
    "# define the tree depths to evaluate\n",
    "values = [i for i in range(1, 21)]\n",
    "# evaluate a decision tree for each depth\n",
    "for i in values:\n",
    " # configure the model\n",
    " model_= XGBClassifier(max_depth=i,\n",
    "                       colsample_bytree=0.6635313631128941,\n",
    "                       learning_rate=0.0912046798212731,\n",
    "                       n_estimators=391,\n",
    "                       subsample=0.9265292368892674, \n",
    "                       gamma=0.18948000378208696, \n",
    "                       reg_alpha=8.198535728428937e-07,\n",
    "                       reg_lambda=0.501111423101153,\n",
    "                       min_child_weight=7,\n",
    "                       colsample_bylevel=0.856588958280996)\n",
    " # fit model_ on the training dataset\n",
    " model_.fit(X_train, y_train)\n",
    " # evaluate on the train dataset\n",
    " train_yhat = model_.predict(X_train)\n",
    " train_acc = accuracy_score(y_train, train_yhat)\n",
    " train_scores.append(train_acc)\n",
    " # evaluate on the test dataset\n",
    " test_yhat = model_.predict(X_test)\n",
    " test_acc = accuracy_score(y_test, test_yhat)\n",
    " test_scores.append(test_acc)\n",
    " # summarize progress\n",
    " print('>%d, train: %.3f, test: %.3f' % (i, train_acc, test_acc))"
   ]
  },
  {
   "cell_type": "code",
   "execution_count": 37,
   "id": "c6f109d2-7dab-4dc4-886c-c5ef4ffb77b9",
   "metadata": {},
   "outputs": [
    {
     "data": {
      "image/png": "[encoded data removed]",
      "text/plain": [
       "<Figure size 640x480 with 1 Axes>"
      ]
     },
     "metadata": {},
     "output_type": "display_data"
    }
   ],
   "source": [
    "import math\n",
    "import matplotlib.pyplot as plt\n",
    "\n",
    "# Set integers for x axis\n",
    "new_x_ticks = range(math.floor(min(values)), math.ceil(max(values))+1)\n",
    "plt.xticks(new_x_ticks)\n",
    "# Plot of train and test scores vs tree depth\n",
    "plt.plot(values, train_scores, '-o', label='Train')\n",
    "plt.plot(values, test_scores, '-o', label='Test')\n",
    "plt.legend()\n",
    "plt.xlabel(\"max_depth\")\n",
    "plt.ylabel(\"accuravy\")\n",
    "plt.show()"
   ]
  },
  {
   "cell_type": "markdown",
   "id": "3205f19c-4896-46ac-864d-59c28d7a4df3",
   "metadata": {},
   "source": [
    "[<a href=\"#content\">Back to top</a>]"
   ]
  },
  {
   "cell_type": "markdown",
   "id": "862a0d4b-e3c0-4e75-88f2-e671dcf02f69",
   "metadata": {},
   "source": [
    "## The final ML model <a name=\"11\"></a>"
   ]
  },
  {
   "cell_type": "code",
   "execution_count": 39,
   "id": "23fba674-38b3-4f81-bb89-ff6992aac4f9",
   "metadata": {},
   "outputs": [
    {
     "name": "stdout",
     "output_type": "stream",
     "text": [
      "Accuracy:  0.781\n",
      "Precision:  0.843\n",
      "Recall:  0.691\n",
      "F1:  0.759\n",
      "ROC:  0.781\n"
     ]
    }
   ],
   "source": [
    "# ML \n",
    "model= XGBClassifier(max_depth=9, \n",
    "                     colsample_bytree=0.6635313631128941,\n",
    "                     learning_rate=0.0912046798212731,\n",
    "                     n_estimators=391,\n",
    "                     subsample=0.9265292368892674, \n",
    "                     gamma=0.18948000378208696, \n",
    "                     reg_alpha=8.198535728428937e-07,\n",
    "                     reg_lambda=0.501111423101153,\n",
    "                     min_child_weight=7,\n",
    "                     colsample_bylevel=0.856588958280996)\n",
    "model.fit(X_train, y_train)\n",
    "y_pred = model.predict(X_test)\n",
    "\n",
    "# Evaluation\n",
    "acc = round(accuracy_score(y_test, y_pred),3)\n",
    "print('Accuracy: ', acc)\n",
    "pre = round(precision_score(y_test, y_pred),3)\n",
    "print('Precision: ', pre) \n",
    "rec = round(recall_score(y_test, y_pred),3)\n",
    "print('Recall: ',rec) \n",
    "f1 = round(f1_score(y_test, y_pred),3)\n",
    "print('F1: ', f1) \n",
    "roc = round(roc_auc_score(y_test, y_pred),3) \n",
    "print('ROC: ', roc)"
   ]
  },
  {
   "cell_type": "markdown",
   "id": "2d827ab2-56e3-4a8d-ac48-6c63450ba4e8",
   "metadata": {},
   "source": [
    "[<a href=\"#content\">Back to top</a>]"
   ]
  },
  {
   "cell_type": "markdown",
   "id": "eee49d94-cef7-4a2c-8920-ad14375bec9e",
   "metadata": {},
   "source": [
    "## Plot the learning curve ans AUC <a name=\"12\"></a>"
   ]
  },
  {
   "cell_type": "code",
   "execution_count": 40,
   "id": "482b7c82-e158-4922-aaab-94931105fc4c",
   "metadata": {},
   "outputs": [
    {
     "data": {
      "image/png": "[encoded data removed]",
      "text/plain": [
       "<Figure size 1000x600 with 1 Axes>"
      ]
     },
     "metadata": {},
     "output_type": "display_data"
    }
   ],
   "source": [
    "from sklearn.model_selection import learning_curve\n",
    "\n",
    "train_sizes, train_scores, test_scores = learning_curve(\n",
    "    model, X_train, y_train, cv=5, scoring='accuracy', n_jobs=-1\n",
    ")\n",
    "\n",
    "train_scores_mean = np.mean(train_scores, axis=1)\n",
    "train_scores_std = np.std(train_scores, axis=1)\n",
    "test_scores_mean = np.mean(test_scores, axis=1)\n",
    "test_scores_std = np.std(test_scores, axis=1)\n",
    "\n",
    "plt.figure(figsize=(10, 6))\n",
    "plt.title(\"Learning Curve\")\n",
    "plt.xlabel(\"Training examples\")\n",
    "plt.ylabel(\"Score\")\n",
    "\n",
    "plt.fill_between(\n",
    "    train_sizes,\n",
    "    train_scores_mean - train_scores_std,\n",
    "    train_scores_mean + train_scores_std,\n",
    "    alpha=0.1,\n",
    "    color=\"r\",\n",
    ")\n",
    "plt.fill_between(\n",
    "    train_sizes,\n",
    "    test_scores_mean - test_scores_std,\n",
    "    test_scores_mean + test_scores_std,\n",
    "    alpha=0.1,\n",
    "    color=\"b\",\n",
    ")\n",
    "plt.plot(train_sizes, train_scores_mean, \"o-\", color=\"r\", label=\"Training score\")\n",
    "plt.plot(train_sizes, test_scores_mean, \"o-\", color=\"b\", label=\"Cross-validation score\")\n",
    "plt.legend(loc=\"best\")\n",
    "plt.show()"
   ]
  },
  {
   "cell_type": "code",
   "execution_count": 41,
   "id": "2962f4f3-bdf1-4c0b-96bd-b602a6d71d56",
   "metadata": {},
   "outputs": [
    {
     "data": {
      "image/png": "[encoded data removed]",
      "text/plain": [
       "<Figure size 640x480 with 1 Axes>"
      ]
     },
     "metadata": {},
     "output_type": "display_data"
    }
   ],
   "source": [
    "from sklearn.metrics import RocCurveDisplay\n",
    "\n",
    "svc_disp = RocCurveDisplay.from_estimator(model, X_test, y_test)\n",
    "plt.show()"
   ]
  },
  {
   "cell_type": "markdown",
   "id": "5e538885-55e8-468b-929b-97d96de44b64",
   "metadata": {},
   "source": [
    "[<a href=\"#content\">Back to top</a>]"
   ]
  },
  {
   "cell_type": "markdown",
   "id": "c2c97145-09c3-46dd-a278-75a51d256cb9",
   "metadata": {},
   "source": [
    "## Confusion matrix, classification report <a name=\"13\"></a>"
   ]
  },
  {
   "cell_type": "code",
   "execution_count": 42,
   "id": "5137f408-d827-419d-9d51-6781ce7e6147",
   "metadata": {},
   "outputs": [
    {
     "data": {
      "image/png": "[encoded data removed]",
      "text/plain": [
       "<Figure size 640x480 with 2 Axes>"
      ]
     },
     "metadata": {},
     "output_type": "display_data"
    }
   ],
   "source": [
    "from sklearn import metrics\n",
    "from sklearn.metrics import confusion_matrix\n",
    "\n",
    "# Random forest classifier prediction\n",
    "predicted = model.fit(X_train, y_train).predict(X_test)\n",
    "\n",
    "# Calculate the confusion matrix\n",
    "confusion_matrix = metrics.confusion_matrix(y_test, predicted)\n",
    "\n",
    "# Display confusion matrix\n",
    "cm_display = metrics.ConfusionMatrixDisplay(confusion_matrix = confusion_matrix, display_labels = [False, True])\n",
    "cm_display.plot()\n",
    "plt.show()"
   ]
  },
  {
   "cell_type": "code",
   "execution_count": 43,
   "id": "10ec371a-1e32-41b2-921b-1b258f50ade2",
   "metadata": {},
   "outputs": [
    {
     "name": "stdout",
     "output_type": "stream",
     "text": [
      "                     precision    recall  f1-score   support\n",
      "\n",
      " Active (target 1)        0.74      0.87      0.80      7000\n",
      "Inactive (target 0)       0.84      0.69      0.76      7000\n",
      "\n",
      "           accuracy                           0.78     14000\n",
      "          macro avg       0.79      0.78      0.78     14000\n",
      "       weighted avg       0.79      0.78      0.78     14000\n",
      "\n"
     ]
    }
   ],
   "source": [
    "# Classification report \n",
    "from sklearn.metrics import classification_report\n",
    "\n",
    "# Print the classification report \n",
    "target_names = ['Active (target 1) ', 'Inactive (target 0)']\n",
    "print(classification_report(y_test, predicted, target_names=target_names))"
   ]
  },
  {
   "cell_type": "markdown",
   "id": "6e53a074-746d-4614-a0b9-ff0413164001",
   "metadata": {},
   "source": [
    "[<a href=\"#content\">Back to top</a>]"
   ]
  }
 ],
 "metadata": {
  "kernelspec": {
   "display_name": "Python 3 (ipykernel)",
   "language": "python",
   "name": "python3"
  },
  "language_info": {
   "codemirror_mode": {
    "name": "ipython",
    "version": 3
   },
   "file_extension": ".py",
   "mimetype": "text/x-python",
   "name": "python",
   "nbconvert_exporter": "python",
   "pygments_lexer": "ipython3",
   "version": "3.12.2"
  }
 },
 "nbformat": 4,
 "nbformat_minor": 5
}
