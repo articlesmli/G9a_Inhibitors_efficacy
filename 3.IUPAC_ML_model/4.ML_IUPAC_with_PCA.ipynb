{
 "cells": [
  {
   "cell_type": "markdown",
   "id": "c8e1770e-41e3-4c1c-9e81-cd8454231c86",
   "metadata": {},
   "source": [
    "# ML with data obtained by parsing the IUPAC names predicting G9a inhibitors. PCA reduced features. "
   ]
  },
  {
   "cell_type": "markdown",
   "id": "fb10c669-b0ff-42a5-9bc2-a56e2a0624d3",
   "metadata": {},
   "source": [
    "### Content   <a name=\"content\"></a>"
   ]
  },
  {
   "cell_type": "markdown",
   "id": "bed8a90d-b88b-4e9b-aea0-8ed9e8bdcd2e",
   "metadata": {},
   "source": [
    "1. [Load data](#1)\n",
    "2. [Ensure equal number of target 1 and 0 in the test data](#2)\n",
    "3. [Balance data](#3)\n",
    "4. [PCA](#4)\n",
    "5. [ML](#5)\n"
   ]
  },
  {
   "cell_type": "markdown",
   "id": "3a383894-5d2e-4029-8c15-2da66e1e90ee",
   "metadata": {},
   "source": [
    "### Load data <a name=\"1\"></a>"
   ]
  },
  {
   "cell_type": "code",
   "execution_count": 1,
   "id": "7279cdf8-925c-450a-a9d3-b45706a030bd",
   "metadata": {},
   "outputs": [
    {
     "name": "stdout",
     "output_type": "stream",
     "text": [
      "Shape of df:  (63792, 4927)\n"
     ]
    },
    {
     "data": {
      "text/html": [
       "<div>\n",
       "<style scoped>\n",
       "    .dataframe tbody tr th:only-of-type {\n",
       "        vertical-align: middle;\n",
       "    }\n",
       "\n",
       "    .dataframe tbody tr th {\n",
       "        vertical-align: top;\n",
       "    }\n",
       "\n",
       "    .dataframe thead th {\n",
       "        text-align: right;\n",
       "    }\n",
       "</style>\n",
       "<table border=\"1\" class=\"dataframe\">\n",
       "  <thead>\n",
       "    <tr style=\"text-align: right;\">\n",
       "      <th></th>\n",
       "      <th>target</th>\n",
       "      <th>acetaldehyde</th>\n",
       "      <th>acetamide</th>\n",
       "      <th>acetamido</th>\n",
       "      <th>acetamidoacetyl</th>\n",
       "      <th>acetamidoanilino</th>\n",
       "      <th>acetamidobenzenesulfonate</th>\n",
       "      <th>acetamidobenzoate</th>\n",
       "      <th>acetamidobenzoicacid</th>\n",
       "      <th>acetamidobenzoyl</th>\n",
       "      <th>...</th>\n",
       "      <th>ynylpyridine</th>\n",
       "      <th>ynylpyrido</th>\n",
       "      <th>ynylquinolin</th>\n",
       "      <th>ynylspiro</th>\n",
       "      <th>ynylsulfanyl</th>\n",
       "      <th>ynylsulfanylpyridine</th>\n",
       "      <th>ynylsulfanylpyrido</th>\n",
       "      <th>ynylsulfanyltetrazole</th>\n",
       "      <th>ynylthiophene</th>\n",
       "      <th>zinc</th>\n",
       "    </tr>\n",
       "  </thead>\n",
       "  <tbody>\n",
       "    <tr>\n",
       "      <th>0</th>\n",
       "      <td>0</td>\n",
       "      <td>0</td>\n",
       "      <td>0</td>\n",
       "      <td>0</td>\n",
       "      <td>0</td>\n",
       "      <td>0</td>\n",
       "      <td>0</td>\n",
       "      <td>0</td>\n",
       "      <td>0</td>\n",
       "      <td>0</td>\n",
       "      <td>...</td>\n",
       "      <td>0</td>\n",
       "      <td>0</td>\n",
       "      <td>0</td>\n",
       "      <td>0</td>\n",
       "      <td>0</td>\n",
       "      <td>0</td>\n",
       "      <td>0</td>\n",
       "      <td>0</td>\n",
       "      <td>0</td>\n",
       "      <td>0</td>\n",
       "    </tr>\n",
       "    <tr>\n",
       "      <th>1</th>\n",
       "      <td>0</td>\n",
       "      <td>0</td>\n",
       "      <td>0</td>\n",
       "      <td>0</td>\n",
       "      <td>0</td>\n",
       "      <td>0</td>\n",
       "      <td>0</td>\n",
       "      <td>0</td>\n",
       "      <td>0</td>\n",
       "      <td>0</td>\n",
       "      <td>...</td>\n",
       "      <td>0</td>\n",
       "      <td>0</td>\n",
       "      <td>0</td>\n",
       "      <td>0</td>\n",
       "      <td>0</td>\n",
       "      <td>0</td>\n",
       "      <td>0</td>\n",
       "      <td>0</td>\n",
       "      <td>0</td>\n",
       "      <td>0</td>\n",
       "    </tr>\n",
       "    <tr>\n",
       "      <th>2</th>\n",
       "      <td>1</td>\n",
       "      <td>0</td>\n",
       "      <td>1</td>\n",
       "      <td>0</td>\n",
       "      <td>0</td>\n",
       "      <td>0</td>\n",
       "      <td>0</td>\n",
       "      <td>0</td>\n",
       "      <td>0</td>\n",
       "      <td>0</td>\n",
       "      <td>...</td>\n",
       "      <td>0</td>\n",
       "      <td>0</td>\n",
       "      <td>0</td>\n",
       "      <td>0</td>\n",
       "      <td>0</td>\n",
       "      <td>0</td>\n",
       "      <td>0</td>\n",
       "      <td>0</td>\n",
       "      <td>0</td>\n",
       "      <td>0</td>\n",
       "    </tr>\n",
       "    <tr>\n",
       "      <th>3</th>\n",
       "      <td>1</td>\n",
       "      <td>0</td>\n",
       "      <td>1</td>\n",
       "      <td>0</td>\n",
       "      <td>0</td>\n",
       "      <td>0</td>\n",
       "      <td>0</td>\n",
       "      <td>0</td>\n",
       "      <td>0</td>\n",
       "      <td>0</td>\n",
       "      <td>...</td>\n",
       "      <td>0</td>\n",
       "      <td>0</td>\n",
       "      <td>0</td>\n",
       "      <td>0</td>\n",
       "      <td>0</td>\n",
       "      <td>0</td>\n",
       "      <td>0</td>\n",
       "      <td>0</td>\n",
       "      <td>0</td>\n",
       "      <td>0</td>\n",
       "    </tr>\n",
       "    <tr>\n",
       "      <th>4</th>\n",
       "      <td>0</td>\n",
       "      <td>0</td>\n",
       "      <td>0</td>\n",
       "      <td>0</td>\n",
       "      <td>0</td>\n",
       "      <td>0</td>\n",
       "      <td>0</td>\n",
       "      <td>0</td>\n",
       "      <td>0</td>\n",
       "      <td>0</td>\n",
       "      <td>...</td>\n",
       "      <td>0</td>\n",
       "      <td>0</td>\n",
       "      <td>0</td>\n",
       "      <td>0</td>\n",
       "      <td>0</td>\n",
       "      <td>0</td>\n",
       "      <td>0</td>\n",
       "      <td>0</td>\n",
       "      <td>0</td>\n",
       "      <td>0</td>\n",
       "    </tr>\n",
       "  </tbody>\n",
       "</table>\n",
       "<p>5 rows × 4927 columns</p>\n",
       "</div>"
      ],
      "text/plain": [
       "   target  acetaldehyde  acetamide  acetamido  acetamidoacetyl  \\\n",
       "0       0             0          0          0                0   \n",
       "1       0             0          0          0                0   \n",
       "2       1             0          1          0                0   \n",
       "3       1             0          1          0                0   \n",
       "4       0             0          0          0                0   \n",
       "\n",
       "   acetamidoanilino  acetamidobenzenesulfonate  acetamidobenzoate  \\\n",
       "0                 0                          0                  0   \n",
       "1                 0                          0                  0   \n",
       "2                 0                          0                  0   \n",
       "3                 0                          0                  0   \n",
       "4                 0                          0                  0   \n",
       "\n",
       "   acetamidobenzoicacid  acetamidobenzoyl  ...  ynylpyridine  ynylpyrido  \\\n",
       "0                     0                 0  ...             0           0   \n",
       "1                     0                 0  ...             0           0   \n",
       "2                     0                 0  ...             0           0   \n",
       "3                     0                 0  ...             0           0   \n",
       "4                     0                 0  ...             0           0   \n",
       "\n",
       "   ynylquinolin  ynylspiro  ynylsulfanyl  ynylsulfanylpyridine  \\\n",
       "0             0          0             0                     0   \n",
       "1             0          0             0                     0   \n",
       "2             0          0             0                     0   \n",
       "3             0          0             0                     0   \n",
       "4             0          0             0                     0   \n",
       "\n",
       "   ynylsulfanylpyrido  ynylsulfanyltetrazole  ynylthiophene  zinc  \n",
       "0                   0                      0              0     0  \n",
       "1                   0                      0              0     0  \n",
       "2                   0                      0              0     0  \n",
       "3                   0                      0              0     0  \n",
       "4                   0                      0              0     0  \n",
       "\n",
       "[5 rows x 4927 columns]"
      ]
     },
     "execution_count": 1,
     "metadata": {},
     "output_type": "execute_result"
    }
   ],
   "source": [
    "import pandas as pd \n",
    "\n",
    "# loading the dataset for ML\n",
    "df = pd.read_csv('data_IUPACs.csv', index_col=[0])\n",
    "\n",
    "# Display the data frame\n",
    "print('Shape of df: ', df.shape)\n",
    "df.head()"
   ]
  },
  {
   "cell_type": "markdown",
   "id": "2e2aba0c-18b9-49e0-a764-785eac5994eb",
   "metadata": {},
   "source": [
    "[<a href=\"#content\">Back to top</a>]"
   ]
  },
  {
   "cell_type": "markdown",
   "id": "fe8ea4b4-fb5f-400c-8a33-92fcea5c0da4",
   "metadata": {},
   "source": [
    "## Ensure equal number of target 1 and 0 in the testing set <a name=\"2\"></a>"
   ]
  },
  {
   "cell_type": "code",
   "execution_count": 2,
   "id": "707791c8-3364-4a27-bab7-d4715c599bd2",
   "metadata": {},
   "outputs": [
    {
     "data": {
      "text/plain": [
       "target\n",
       "0    33555\n",
       "1    30237\n",
       "Name: count, dtype: int64"
      ]
     },
     "execution_count": 2,
     "metadata": {},
     "output_type": "execute_result"
    }
   ],
   "source": [
    "# from 140,213 samples  \n",
    "df['target'].value_counts()"
   ]
  },
  {
   "cell_type": "code",
   "execution_count": 3,
   "id": "072bd0f5-8eec-4c14-b6c1-db437782cde8",
   "metadata": {},
   "outputs": [],
   "source": [
    "# Handle the part of target 0 in the test set \n",
    "df_0 = df[df['target']==0]\n",
    "\n",
    "# Shuffle the resulting data set\n",
    "df_0 = df_0.sample(\n",
    "    frac = 1,        # Return entire dataframe\n",
    "    random_state=1   # Make result reproducible\n",
    "    ).reset_index(drop=True)\n",
    "\n",
    "# Extract 1650 samples (10% of 16,419 samples) of target 0 for the test set Extract 10% of target 1 for the test set\n",
    "df_0_test = df_0.iloc[:14100]\n",
    "\n",
    "# Assign the rest of target 1 for the train set\n",
    "df_0_train = df_0.iloc[14100:]"
   ]
  },
  {
   "cell_type": "code",
   "execution_count": 4,
   "id": "077deb62-657e-4949-8698-1624a4298b2d",
   "metadata": {},
   "outputs": [],
   "source": [
    "# Handle the part of target 1 in the test set \n",
    "df_1 = df[df['target']==1]\n",
    "\n",
    "# Shuffle the resulting data set\n",
    "df_1 = df_1.sample(\n",
    "    frac = 1,        # Return entire dataframe\n",
    "    random_state=1   # Make result reproducible\n",
    "    ).reset_index(drop=True)\n",
    "\n",
    "# Extract 2800 samples (10% of 28000 samples) of target 1 for the test set\n",
    "df_1_test = df_1.iloc[:14100]\n",
    "\n",
    "# Assign the rest of target 1 for the train set\n",
    "df_1_train = df_1.iloc[14100:]"
   ]
  },
  {
   "cell_type": "code",
   "execution_count": 5,
   "id": "8cdaa06d-123f-471b-af70-4d2133cc63ae",
   "metadata": {},
   "outputs": [],
   "source": [
    "# Create train and test dataframes for further manipulation \n",
    "train = pd.concat([df_0_train, df_1_train])\n",
    "test = pd.concat([df_0_test, df_1_test])"
   ]
  },
  {
   "cell_type": "code",
   "execution_count": 6,
   "id": "636a3e2c-d8f4-40c3-bca1-5205fe24ab14",
   "metadata": {},
   "outputs": [],
   "source": [
    "# Shuffle the resulting data sets\n",
    "train = train.sample(\n",
    "    frac = 1,        # Return entire dataframe\n",
    "    random_state=1   # Make result reproducible\n",
    "    ).reset_index(drop=True)\n",
    "\n",
    "# Shuffle the resulting data set\n",
    "test = test.sample(\n",
    "    frac = 1,        # Return entire dataframe\n",
    "    random_state=1   # Make result reproducible\n",
    "    ).reset_index(drop=True)"
   ]
  },
  {
   "cell_type": "code",
   "execution_count": 7,
   "id": "ba535325-9412-4509-805e-514cfe3a3c20",
   "metadata": {},
   "outputs": [],
   "source": [
    "# Create the sets for ML \n",
    "X_train = train.drop(columns='target', axis=1)\n",
    "y_train = train['target']\n",
    "X_test =  test.drop(columns='target', axis=1)\n",
    "y_test = test['target']"
   ]
  },
  {
   "cell_type": "code",
   "execution_count": 8,
   "id": "166d65d9-deaf-4b68-b0d9-fcd31e7f1039",
   "metadata": {},
   "outputs": [],
   "source": [
    "# Create the sets for Cross-validation\n",
    "X = pd.concat([X_train, X_test])\n",
    "y = pd.concat([y_train,y_test])"
   ]
  },
  {
   "cell_type": "code",
   "execution_count": 9,
   "id": "011fd074-4816-45d5-a63b-1c8072f20c9d",
   "metadata": {},
   "outputs": [
    {
     "data": {
      "text/plain": [
       "target\n",
       "1    14100\n",
       "0    14100\n",
       "Name: count, dtype: int64"
      ]
     },
     "execution_count": 9,
     "metadata": {},
     "output_type": "execute_result"
    }
   ],
   "source": [
    "# Check the number of classes in the y_test set\n",
    "y_test.value_counts()"
   ]
  },
  {
   "cell_type": "markdown",
   "id": "5354e2c3-5fea-44c4-ad48-3586194d1130",
   "metadata": {},
   "source": [
    "[<a href=\"#content\">Back to top</a>]"
   ]
  },
  {
   "cell_type": "markdown",
   "id": "d044723e-f4fa-4809-93a2-577981fab6a4",
   "metadata": {},
   "source": [
    "## Balance data  <a name=\"3\"></a>"
   ]
  },
  {
   "cell_type": "code",
   "execution_count": 10,
   "id": "4abe153b-701e-45a2-9987-7db9c9fe9d7a",
   "metadata": {},
   "outputs": [
    {
     "name": "stdout",
     "output_type": "stream",
     "text": [
      "[(0, 19455), (1, 16137)]\n"
     ]
    },
    {
     "data": {
      "image/png": "[encoded data removed]",
      "text/plain": [
       "<Figure size 640x480 with 1 Axes>"
      ]
     },
     "metadata": {},
     "output_type": "display_data"
    }
   ],
   "source": [
    "from collections import Counter\n",
    "from matplotlib import pyplot as plt\n",
    "import seaborn as sns\n",
    "\n",
    "# Illustrate the imbalance between classification targets \n",
    "print(sorted(Counter(y_train).items()))\n",
    "sns.set_style('white')\n",
    "sns.set(font_scale=1)\n",
    "plt.figure()\n",
    "sns.countplot(x=y_train, hue=y_train, palette='nipy_spectral')\n",
    "plt.show()"
   ]
  },
  {
   "cell_type": "code",
   "execution_count": 11,
   "id": "3060b383-c298-47b9-951a-c55490d21f04",
   "metadata": {},
   "outputs": [
    {
     "name": "stdout",
     "output_type": "stream",
     "text": [
      "[(0, 19455), (1, 19455)]\n"
     ]
    },
    {
     "data": {
      "image/png": "[encoded data removed]",
      "text/plain": [
       "<Figure size 640x480 with 1 Axes>"
      ]
     },
     "metadata": {},
     "output_type": "display_data"
    }
   ],
   "source": [
    "from imblearn.over_sampling import RandomOverSampler\n",
    "\n",
    "# Balance targets with RandomOverSampler\n",
    "ros = RandomOverSampler()\n",
    "X_train, y_train = ros.fit_resample(X_train, y_train)\n",
    "\n",
    "# Illustrate the balance between classification targets \n",
    "print(sorted(Counter(y_train).items()))\n",
    "sns.set_style('white')\n",
    "sns.set(font_scale=1)\n",
    "plt.figure()\n",
    "sns.countplot(x=y_train, hue=y_train,palette='nipy_spectral')\n",
    "plt.show()"
   ]
  },
  {
   "cell_type": "markdown",
   "id": "8d5c4a56-5659-4d56-80be-6df2a2441659",
   "metadata": {},
   "source": [
    "[<a href=\"#content\">Back to top</a>]"
   ]
  },
  {
   "cell_type": "markdown",
   "id": "56d88822-587c-4b0c-94bf-05c37a9a90b7",
   "metadata": {},
   "source": [
    "## PCA  <a name=\"4\"></a>"
   ]
  },
  {
   "cell_type": "code",
   "execution_count": 12,
   "id": "61be6ea5-a839-4c7a-8c26-2629258146b7",
   "metadata": {},
   "outputs": [
    {
     "data": {
      "text/plain": [
       "47"
      ]
     },
     "execution_count": 12,
     "metadata": {},
     "output_type": "execute_result"
    }
   ],
   "source": [
    "import numpy as np\n",
    "\n",
    "# Determine the number of the PCA components\n",
    "# Scale the data points\n",
    "# X_pca = sc.fit_transform(X_train)\n",
    "\n",
    "# Mean\n",
    "X_mean = X_train.mean()\n",
    "\n",
    "# Standard deviation\n",
    "X_std = X.std()\n",
    "\n",
    "# Standardization\n",
    "Z = (X - X_mean) / X_std\n",
    "\n",
    "# covariance\n",
    "c = X.cov()\n",
    "\n",
    "# Handle infinite values\n",
    "c.replace([np.inf, -np.inf], np.nan, inplace=True)\n",
    "c.fillna(c.mean(), inplace=True)\n",
    "\n",
    "eigenvalues, eigenvectors = np.linalg.eig(c)\n",
    "\n",
    "# Index the eigenvalues in descending order \n",
    "idx = eigenvalues.argsort()[::-1]\n",
    "\n",
    "# Sort the eigenvalues in descending order \n",
    "eigenvalues = eigenvalues[idx]\n",
    "\n",
    "# sort the corresponding eigenvectors accordingly\n",
    "eigenvectors = eigenvectors[:,idx]\n",
    "\n",
    "explained_var = np.cumsum(eigenvalues) / np.sum(eigenvalues)\n",
    "\n",
    "n_components = np.argmax(explained_var >= 0.50) + 1\n",
    "n_components"
   ]
  },
  {
   "cell_type": "code",
   "execution_count": 13,
   "id": "5ca0b3dc-4061-488b-9ff6-2607384c26b8",
   "metadata": {},
   "outputs": [
    {
     "name": "stdout",
     "output_type": "stream",
     "text": [
      "Shapes:\n",
      "X_train:  (38910, 47)\n",
      "X_test:   (28200, 47)\n",
      "y_train:  (38910,)\n",
      "y_test:   (28200,)\n"
     ]
    }
   ],
   "source": [
    "from sklearn.decomposition import PCA\n",
    "\n",
    "# Fit PCA on the training set\n",
    "pca = PCA(n_components=47)  # Adjust n_components as needed\n",
    "pca.fit(X_train)\n",
    "\n",
    "# Transform both training and test sets\n",
    "X_train = pca.transform(X_train)\n",
    "X_test = pca.transform(X_test)\n",
    "\n",
    "# Print the shape of each part\n",
    "print(\"Shapes:\")\n",
    "print(\"X_train: \", X_train.shape)\n",
    "print(\"X_test:  \", X_test.shape)\n",
    "print(\"y_train: \", y_train.shape)\n",
    "print(\"y_test:  \", y_test.shape)"
   ]
  },
  {
   "cell_type": "markdown",
   "id": "b71afe8a-4601-4383-ba8e-a0278caf93e3",
   "metadata": {},
   "source": [
    "[<a href=\"#content\">Back to top</a>]"
   ]
  },
  {
   "cell_type": "markdown",
   "id": "922d42e1-88c1-46c0-83dc-c312e40cd863",
   "metadata": {},
   "source": [
    "## ML  <a name=\"5\"></a>"
   ]
  },
  {
   "cell_type": "code",
   "execution_count": 14,
   "id": "19954e87-606f-404b-9032-1923e03ad57c",
   "metadata": {},
   "outputs": [
    {
     "name": "stdout",
     "output_type": "stream",
     "text": [
      "Accuracy:  0.686\n",
      "Precision:  0.712\n",
      "Recall:  0.626\n",
      "F1:  0.666\n",
      "ROC:  0.686\n"
     ]
    }
   ],
   "source": [
    "from sklearn.ensemble import RandomForestClassifier\n",
    "from sklearn.metrics import f1_score, accuracy_score, precision_score, recall_score, roc_auc_score\n",
    "import matplotlib.pyplot as plt\n",
    "\n",
    "# Instantiate the estimator \n",
    "model = RandomForestClassifier()\n",
    "\n",
    "# Train  \n",
    "model.fit(X_train, y_train)\n",
    "\n",
    "# Predict\n",
    "y_pred = model.predict(X_test)\n",
    "\n",
    "# Evaluation\n",
    "acc = round(accuracy_score(y_test, y_pred),3)\n",
    "print('Accuracy: ', acc)\n",
    "pre = round(precision_score(y_test, y_pred),3)\n",
    "print('Precision: ', pre) \n",
    "rec = round(recall_score(y_test, y_pred),3)\n",
    "print('Recall: ',rec) \n",
    "f1 = round(f1_score(y_test, y_pred),3)\n",
    "print('F1: ', f1) \n",
    "roc = round(roc_auc_score(y_test, y_pred),3) \n",
    "print('ROC: ', roc)"
   ]
  },
  {
   "cell_type": "markdown",
   "id": "51069e04-73dc-415b-82b8-c624e9c37397",
   "metadata": {},
   "source": [
    "[<a href=\"#content\">Back to top</a>]"
   ]
  }
 ],
 "metadata": {
  "kernelspec": {
   "display_name": "Python 3 (ipykernel)",
   "language": "python",
   "name": "python3"
  },
  "language_info": {
   "codemirror_mode": {
    "name": "ipython",
    "version": 3
   },
   "file_extension": ".py",
   "mimetype": "text/x-python",
   "name": "python",
   "nbconvert_exporter": "python",
   "pygments_lexer": "ipython3",
   "version": "3.12.2"
  }
 },
 "nbformat": 4,
 "nbformat_minor": 5
}
